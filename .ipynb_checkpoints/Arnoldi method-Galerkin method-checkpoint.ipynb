{
 "cells": [
  {
   "cell_type": "code",
   "execution_count": 2,
   "metadata": {},
   "outputs": [],
   "source": [
    "#1st we do orthagonalisation by Arnoldi method\n",
    "#Input - A(n*n) matrix , v(n vector) , m (a positive integer)\n",
    "#(m+1) orthogonal vectors, Hessenberg matrix\n",
    "#orthogonal vectors spanning the krylov space\n",
    "#breaks when degree of minimal polynomial is achieved"
   ]
  },
  {
   "cell_type": "code",
   "execution_count": 3,
   "metadata": {},
   "outputs": [],
   "source": [
    "import numpy as np\n",
    "from numpy import linalg "
   ]
  },
  {
   "cell_type": "code",
   "execution_count": 19,
   "metadata": {},
   "outputs": [],
   "source": [
    "def arnoldi(A,m):\n",
    "    n = A.shape[0]\n",
    "    V = np.zeros([n,m+1])\n",
    "    H = np.zeros([m+1,m])\n",
    "    v = np.random.rand(n)\n",
    "    V[:,0] = v/(np.linalg.norm(v))\n",
    "    for k in range(m):\n",
    "        vcap = A.dot(V[:,k])\n",
    "        for j in range(k+1):\n",
    "            H[j,k] = (V[:,j].T).dot(vcap)\n",
    "            vcap = vcap - H[j,k]*V[:,j]\n",
    "        H[k+1,k] = np.linalg.norm(vcap)\n",
    "        if (H[k+1,k]<1e-10):\n",
    "            print(\"breakdown\")\n",
    "            break\n",
    "        else:\n",
    "            V[:,k+1] = vcap/H[k+1,k]\n",
    "    return V, H"
   ]
  },
  {
   "cell_type": "code",
   "execution_count": 20,
   "metadata": {},
   "outputs": [],
   "source": [
    "A = np.random.rand(5,5)"
   ]
  },
  {
   "cell_type": "code",
   "execution_count": 26,
   "metadata": {},
   "outputs": [],
   "source": [
    "D = np.dot(A,A.T)\n",
    "D1= D-np.eye(5)"
   ]
  },
  {
   "cell_type": "code",
   "execution_count": 27,
   "metadata": {},
   "outputs": [],
   "source": [
    "V1,H1 = arnoldi(D,3)\n",
    "V2,H2 = arnoldi(D1,3)"
   ]
  },
  {
   "cell_type": "code",
   "execution_count": 28,
   "metadata": {},
   "outputs": [
    {
     "data": {
      "text/plain": [
       "array([[ 0.51952501, -0.0357854 , -0.22056095, -0.59879982],\n",
       "       [ 0.16284528,  0.50555957,  0.28675856,  0.55110028],\n",
       "       [ 0.43798641,  0.26087779, -0.72751146,  0.33646734],\n",
       "       [ 0.65779544, -0.53655455,  0.41083211,  0.27683146],\n",
       "       [ 0.2811552 ,  0.62223864,  0.41360181, -0.38455341]])"
      ]
     },
     "execution_count": 28,
     "metadata": {},
     "output_type": "execute_result"
    }
   ],
   "source": [
    "V1"
   ]
  },
  {
   "cell_type": "code",
   "execution_count": 29,
   "metadata": {},
   "outputs": [
    {
     "data": {
      "text/plain": [
       "array([[ 0.38940917,  0.21716949,  0.15678382,  0.41556766],\n",
       "       [ 0.16801911,  0.60282109, -0.4191128 , -0.63506462],\n",
       "       [ 0.27940879,  0.61284056,  0.05364107,  0.46597188],\n",
       "       [ 0.38468402, -0.00166212,  0.79579508, -0.45462451],\n",
       "       [ 0.77076521, -0.46245847, -0.40447017, -0.01353553]])"
      ]
     },
     "execution_count": 29,
     "metadata": {},
     "output_type": "execute_result"
    }
   ],
   "source": [
    "V2"
   ]
  },
  {
   "cell_type": "code",
   "execution_count": 4,
   "metadata": {
    "collapsed": true
   },
   "outputs": [],
   "source": [
    "D = np.zeros((10, 10), int)\n",
    "np.fill_diagonal(D, 1)\n",
    "D[0,9] = 1\n",
    "D[9,0] = 1\n",
    "v = np.random.randint(10,size=10)\n",
    "n = 10\n",
    "A0 = np.random.rand(n,n) \n",
    "A = A0 @ A0.T\n",
    "v = np.random.rand(n)\n",
    "#The D proposed only three orthogonal vector"
   ]
  },
  {
   "cell_type": "code",
   "execution_count": 5,
   "metadata": {
    "collapsed": true
   },
   "outputs": [],
   "source": [
    "V, H = arnoldi(A0,10,v)"
   ]
  },
  {
   "cell_type": "code",
   "execution_count": 6,
   "metadata": {},
   "outputs": [
    {
     "data": {
      "text/plain": [
       "(11, 10)"
      ]
     },
     "execution_count": 6,
     "metadata": {},
     "output_type": "execute_result"
    }
   ],
   "source": [
    "H.shape"
   ]
  },
  {
   "cell_type": "code",
   "execution_count": 8,
   "metadata": {},
   "outputs": [
    {
     "ename": "IndentationError",
     "evalue": "expected an indented block (<ipython-input-8-5e0283ec6bc3>, line 4)",
     "output_type": "error",
     "traceback": [
      "\u001b[0;36m  File \u001b[0;32m\"<ipython-input-8-5e0283ec6bc3>\"\u001b[0;36m, line \u001b[0;32m4\u001b[0m\n\u001b[0;31m    print(\"---------------\")\u001b[0m\n\u001b[0m        ^\u001b[0m\n\u001b[0;31mIndentationError\u001b[0m\u001b[0;31m:\u001b[0m expected an indented block\n"
     ]
    }
   ],
   "source": [
    "for i in range(7):\n",
    "    for j in range(7):\n",
    "        #print(V[:,i].dot(V[:,j]))\n",
    "    print(\"---------------\")"
   ]
  },
  {
   "cell_type": "code",
   "execution_count": 9,
   "metadata": {
    "collapsed": true
   },
   "outputs": [],
   "source": [
    "#Full orthogonal method\n",
    "#Now we will solve the equation Ax = b by Arnoldi method using Galerkin Method\n",
    "#r0 = b-Ax0\n",
    "#xm = x0 + zm\n",
    "#zm= Vm.Ym\n",
    "#let v1 = r0/norm(r0)\n",
    "#find H(m+1) V(m+1)\n",
    "#solve Hm.Ym = norm(r0)e1\n",
    "#residual rm = -h(m+1,m)em.T.Ym.v(m+1)\n",
    "#norm(rm) = h(m+1,m)|em.T.Ym|"
   ]
  },
  {
   "cell_type": "code",
   "execution_count": 10,
   "metadata": {
    "collapsed": true
   },
   "outputs": [],
   "source": [
    "#Explicitly Restarted Arnoldi method (FOM) for Ax = b\n",
    "#input : A(n,n), m, e, x0\n",
    "#output : xm such that rm is orthogobnal to krylov space\n",
    "#As the matrix is Hessenberg so we will decompose it into LU nad then use forward and backward substitution"
   ]
  },
  {
   "cell_type": "code",
   "execution_count": 11,
   "metadata": {
    "collapsed": true
   },
   "outputs": [],
   "source": [
    "#given a hessenberg matrix we need tofind the solution\n",
    "#convert it into a upper triangular matrix\n",
    "def hessol(A,b):\n",
    "    m = A.shape[0]\n",
    "    x = np.zeros([m,])\n",
    "    #print(A)\n",
    "    for i in range(1,m):\n",
    "        #print(A[i-1,:].shape)\n",
    "        A[i,:] = A[i,:] - A[i-1,:]*(A[i,i-1]/A[i-1,i-1])\n",
    "        b[i] = b[i] - b[i-1]*(A[i,i-1]/A[i-1,i-1])\n",
    "   # print(A)\n",
    "    for j in range (m-1,-1,-1):\n",
    "        temp = b[j]\n",
    "        for k in range(m-1,j,-1):\n",
    "            temp = temp - A[j,k]*x[k] \n",
    "        x[j] = temp/A[j,j]\n",
    "    return x"
   ]
  },
  {
   "cell_type": "code",
   "execution_count": 12,
   "metadata": {},
   "outputs": [
    {
     "name": "stdout",
     "output_type": "stream",
     "text": [
      "[-18.48111792  20.96676837  34.00388203 -24.53529755]\n",
      "[ 0.83733894  0.09644537  0.76521767  0.89729001]\n",
      "[ 0.83733894  0.09644537  0.76521767  0.89729001]\n"
     ]
    }
   ],
   "source": [
    "A = np.random.rand(4,4)\n",
    "A[2,0] = 0 \n",
    "A[3,0] = 0 \n",
    "A[3,1] = 0 \n",
    "b = np.random.rand(4)\n",
    "x = hessol(A,b)\n",
    "print(x)\n",
    "print(A@x)\n",
    "print(b)"
   ]
  },
  {
   "cell_type": "code",
   "execution_count": 35,
   "metadata": {},
   "outputs": [],
   "source": [
    "def FOM(A,m,e,x0,b,p,S=0,c=0):\n",
    "    if(S==0):\n",
    "        r0 = b - A.dot(x0)\n",
    "    else:\n",
    "        r0 = c\n",
    "    temp = np.linalg.norm(r0)\n",
    "    #print(temp)\n",
    "    v = r0/temp\n",
    "    V, H = arnoldi(A,m,v)\n",
    "    #print(H[m,m-1])\n",
    "    E = np.zeros(m)\n",
    "    E[0] = 1\n",
    "    #print(H[:m,:])\n",
    "    #print(temp*E)\n",
    "    y = hessol(H[:m,:],temp*E)\n",
    "    zm = V[:,:m]@y\n",
    "    x0 = x0 - zm\n",
    "    E = np.zeros(m)\n",
    "    E[m-1] = 1\n",
    "    temp2 = np.dot(E,y)\n",
    "    rm = -1*H[m,m-1]*temp2*V[:,m]\n",
    "    residual = np.linalg.norm(rm)\n",
    "    #print(np.linalg.norm((b-A@x0)))\n",
    "    print((x0))\n",
    "    print(p)\n",
    "    #print(residual)\n",
    "    #print(temp2)\n",
    "    #print(H[m,m-1])\n",
    "    if(p < 0):\n",
    "        return x0\n",
    "    else:\n",
    "        x0 = FOM(A,m,e,x0,b,p-1,1,rm)"
   ]
  },
  {
   "cell_type": "code",
   "execution_count": 36,
   "metadata": {},
   "outputs": [
    {
     "name": "stdout",
     "output_type": "stream",
     "text": [
      "1.99182487909\n",
      "-----\n",
      "[ 0.82046432  1.20394226  0.88750551  0.23159583  1.60100008]\n",
      "10\n",
      "[ nan  nan  nan  nan  nan]\n",
      "9\n",
      "[ nan  nan  nan  nan  nan]\n",
      "8\n",
      "[ nan  nan  nan  nan  nan]\n",
      "7\n",
      "[ nan  nan  nan  nan  nan]\n",
      "6\n",
      "[ nan  nan  nan  nan  nan]\n",
      "5\n",
      "[ nan  nan  nan  nan  nan]\n",
      "4\n",
      "[ nan  nan  nan  nan  nan]\n",
      "3\n",
      "[ nan  nan  nan  nan  nan]\n",
      "2\n",
      "[ nan  nan  nan  nan  nan]\n",
      "1\n",
      "[ nan  nan  nan  nan  nan]\n",
      "0\n",
      "[ nan  nan  nan  nan  nan]\n",
      "-1\n"
     ]
    },
    {
     "name": "stderr",
     "output_type": "stream",
     "text": [
      "/home/stark/anaconda3/lib/python3.6/site-packages/ipykernel_launcher.py:8: RuntimeWarning: invalid value encountered in true_divide\n",
      "  \n"
     ]
    }
   ],
   "source": [
    "A = np.diag(range(1,101))\n",
    "A[0,99] = 1\n",
    "A[99,0] = 1\n",
    "B = np.random.rand(5,5)\n",
    "b = np.random.rand(5)\n",
    "v = np.random.rand(5)\n",
    "print(np.linalg.norm((b-B@v)))\n",
    "print(\"-----\")\n",
    "x = FOM(B,5,0.00000001,v,b,10,0,0)\n",
    "#print(B)\n",
    "#print(b)"
   ]
  },
  {
   "cell_type": "code",
   "execution_count": null,
   "metadata": {
    "collapsed": true
   },
   "outputs": [],
   "source": []
  }
 ],
 "metadata": {
  "kernelspec": {
   "display_name": "Python 2",
   "language": "python",
   "name": "python2"
  },
  "language_info": {
   "codemirror_mode": {
    "name": "ipython",
    "version": 2
   },
   "file_extension": ".py",
   "mimetype": "text/x-python",
   "name": "python",
   "nbconvert_exporter": "python",
   "pygments_lexer": "ipython2",
   "version": "2.7.12"
  }
 },
 "nbformat": 4,
 "nbformat_minor": 2
}
