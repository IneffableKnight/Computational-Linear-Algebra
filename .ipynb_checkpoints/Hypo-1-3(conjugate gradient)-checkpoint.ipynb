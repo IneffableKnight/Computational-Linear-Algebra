{
 "cells": [
  {
   "cell_type": "code",
   "execution_count": 2,
   "metadata": {
    "collapsed": true
   },
   "outputs": [],
   "source": [
    "#defining the conjugate gradient"
   ]
  },
  {
   "cell_type": "code",
   "execution_count": null,
   "metadata": {
    "collapsed": true
   },
   "outputs": [],
   "source": [
    "#will the upper right block be spd of a spd matrix and if we do krylov decompostion then we can use it for both \n",
    "#the sparse block"
   ]
  },
  {
   "cell_type": "code",
   "execution_count": null,
   "metadata": {
    "collapsed": true
   },
   "outputs": [],
   "source": [
    "def CG(A,b,x):\n",
    "    n = A.shape[0]\n",
    "    e = .001\n",
    "    x0 = x\n",
    "    r = b - A@x0\n",
    "    p = r\n",
    "    temp1 = (np.linalg.norm(r))**2\n",
    "    for i in range(n):\n",
    "        w = A@p\n",
    "        a = (temp1)/(p.T.dot(w))\n",
    "        x0 = x0 + a*p\n",
    "        r = r - a*w\n",
    "        temp2 = (np.linalg.norm(r))**2\n",
    "        if(temp2<e):\n",
    "            print(i+1)\n",
    "            break\n",
    "        else:\n",
    "            b =temp2/temp1\n",
    "            p = r + b*p\n",
    "            temp1 = temp2\n",
    "    return x0"
   ]
  },
  {
   "cell_type": "code",
   "execution_count": null,
   "metadata": {
    "collapsed": true
   },
   "outputs": [],
   "source": [
    "#model-6(solving with the sparse part with the conjugate part)"
   ]
  },
  {
   "cell_type": "code",
   "execution_count": null,
   "metadata": {
    "collapsed": true
   },
   "outputs": [],
   "source": [
    "# Now working using new hypothesis\n",
    "# divide into 4 parts\n",
    "# and solve 2 equations\n",
    "# put the 1st equation value to next after each iteration\n",
    "x = xin\n",
    "A1 = A[:50,:50]\n",
    "A2 = A[50:,50:]\n",
    "B1 = A[:50,50:]\n",
    "B2 = A[50:,:50]\n",
    "x1 = x[:50]\n",
    "x2 = x[50:]\n",
    "b1 = B[:50]\n",
    "b2 = B[50:]\n",
    "start_time = time.time()\n",
    "#####\n",
    "# solving the RDD A by jacobi method for 10 iterations\n",
    "count = 0 \n",
    "while(1):\n",
    "    b = b1 - A1@x1 \n",
    "    x2 = CG(B1,b,x2)\n",
    "    b = b2 - A2@x2\n",
    "    x1 = CG(B2,b,x1)\n",
    "    count = count +1\n",
    "    if(count>10):\n",
    "        break\n",
    "########\n",
    "a6 =(time.time() - start_time)\n",
    "x[:50] = x1\n",
    "x[50:] = x2\n",
    "lat6 = linalg.norm(B-A.dot(x))\n",
    "print(x1)"
   ]
  },
  {
   "cell_type": "code",
   "execution_count": null,
   "metadata": {
    "collapsed": true
   },
   "outputs": [],
   "source": []
  }
 ],
 "metadata": {
  "kernelspec": {
   "display_name": "Python 3",
   "language": "python",
   "name": "python3"
  },
  "language_info": {
   "codemirror_mode": {
    "name": "ipython",
    "version": 3
   },
   "file_extension": ".py",
   "mimetype": "text/x-python",
   "name": "python",
   "nbconvert_exporter": "python",
   "pygments_lexer": "ipython3",
   "version": "3.6.2"
  }
 },
 "nbformat": 4,
 "nbformat_minor": 2
}
