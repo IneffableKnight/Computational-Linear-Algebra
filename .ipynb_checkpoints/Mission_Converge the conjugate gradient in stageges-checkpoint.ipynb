{
 "cells": [
  {
   "cell_type": "code",
   "execution_count": 38,
   "metadata": {},
   "outputs": [],
   "source": [
    "import numpy as np\n",
    "import time\n",
    "from numpy.linalg import inv\n",
    "from numpy import linalg\n",
    "from scipy import linalg"
   ]
  },
  {
   "cell_type": "code",
   "execution_count": 44,
   "metadata": {},
   "outputs": [],
   "source": [
    "#We try to converge the proposed method using the simple inbuilt method in the computer\n",
    "#we will try to solve the equateion using the block matix\n",
    "#suppose themarix is not spd only sparse and block diagonal\n",
    "\n",
    "n = 100\n",
    "p = 15\n",
    "a1list = np.zeros(n)\n",
    "for i in range(n):\n",
    "    a = np.random.randint(p)\n",
    "    if a<12 :\n",
    "        a1list[i] = 1\n",
    "a2list = np.zeros(n)\n",
    "for i in range(n):\n",
    "    a = np.random.randint(p)\n",
    "    if a<12 :\n",
    "        a2list[i] = 1\n",
    "b1list = np.zeros(n)\n",
    "for i in range(n):\n",
    "    a = np.random.randint(p)\n",
    "    if a<3 :\n",
    "        b1list[i] = 1\n",
    "b2list = np.zeros(n)\n",
    "for i in range(n):\n",
    "    a = np.random.randint(p)\n",
    "    if a<3 :\n",
    "        b2list[i] = 1\n",
    "a = 10\n",
    "A1 = a1list.reshape([a,a])\n",
    "B1 = b1list.reshape([a,a])\n",
    "A2 = a2list.reshape([a,a])\n",
    "B2 = b2list.reshape([a,a])\n",
    "\n",
    "Mat = np.block([[A1,B1],[B2, A2]])\n",
    "\n",
    "A = Mat.dot(Mat.T)\n",
    "A = Mat.copy()\n",
    "np.savetxt('text.txt',A,fmt='%0.0f')\n",
    "#B = np.random.rand(200)\n",
    "B = np.random.randint(-100,300,2*a)"
   ]
  },
  {
   "cell_type": "code",
   "execution_count": 45,
   "metadata": {},
   "outputs": [],
   "source": [
    "A1 = (A[:a,:a]).copy()\n",
    "A2 = (A[a:,a:]).copy()\n",
    "B1 = (A[:a,a:]).copy()\n",
    "B2 = (A[a:,:a]).copy()"
   ]
  },
  {
   "cell_type": "code",
   "execution_count": null,
   "metadata": {},
   "outputs": [],
   "source": []
  },
  {
   "cell_type": "code",
   "execution_count": 58,
   "metadata": {},
   "outputs": [],
   "source": [
    "x1 = np.linalg.solve(A1, B[:a])\n",
    "x2 = np.linalg.solve(A2, B[a:])\n",
    "xreal = np.linalg.solve(A, B)\n",
    "x = np.zeros(2*a)\n",
    "x[:a] = x1\n",
    "x[a:] = x2"
   ]
  },
  {
   "cell_type": "code",
   "execution_count": 59,
   "metadata": {},
   "outputs": [],
   "source": [
    "def CGmod(A,b):\n",
    "    n = A.shape[0]\n",
    "    x0 = np.random.rand(n)\n",
    "    r = b - A.dot(x0)\n",
    "    p = r\n",
    "    temp1 = (np.linalg.norm(r))**2\n",
    "    for i in range(250):\n",
    "        w = A.dot(p)\n",
    "        a = (temp1)/(p.T.dot(w))\n",
    "        x0 = x0 + a*p\n",
    "        r = r - a*w\n",
    "        temp2 = (np.linalg.norm(r))**2\n",
    "        \n",
    "        b =temp2/temp1\n",
    "        p = r + b*p\n",
    "        temp1 = temp2\n",
    "    return x0"
   ]
  },
  {
   "cell_type": "code",
   "execution_count": 60,
   "metadata": {},
   "outputs": [],
   "source": [
    "def caller(A1,A2,B1,B2,d1,d2):\n",
    "    n = A1.shape[0]\n",
    "    x1 = np.random.rand(n)\n",
    "    x2 = np.random.rand(n)\n",
    "    for i in range(10):\n",
    "        b1 = d1-B1.dot(x2)\n",
    "        x1 = CGmod(A1,b1)\n",
    "        b2 = d2-B2.dot(x1)\n",
    "        x2 = CGmod(A2,b2)\n",
    "    return(np.concatenate((x1,x2)))"
   ]
  },
  {
   "cell_type": "code",
   "execution_count": 50,
   "metadata": {},
   "outputs": [
    {
     "name": "stderr",
     "output_type": "stream",
     "text": [
      "/usr/local/lib/python2.7/dist-packages/ipykernel_launcher.py:9: RuntimeWarning: divide by zero encountered in double_scalars\n",
      "  if __name__ == '__main__':\n",
      "/usr/local/lib/python2.7/dist-packages/ipykernel_launcher.py:15: RuntimeWarning: invalid value encountered in add\n",
      "  from ipykernel import kernelapp as app\n"
     ]
    }
   ],
   "source": [
    "d1 = B[:a]\n",
    "d2 = B[a:]\n",
    "#start_time = time.time()\n",
    "xmod = caller(A1,A2,B1,B2,d1,d2)\n",
    "#a2 =(time.time() - start_time)"
   ]
  },
  {
   "cell_type": "code",
   "execution_count": 51,
   "metadata": {},
   "outputs": [],
   "source": [
    "xactual = np.linalg.solve(A, B)"
   ]
  },
  {
   "cell_type": "code",
   "execution_count": 52,
   "metadata": {},
   "outputs": [
    {
     "name": "stdout",
     "output_type": "stream",
     "text": [
      "nan\n",
      "2.304432200617157e-10\n",
      "2.304432200617157e-10\n",
      "nan\n"
     ]
    }
   ],
   "source": [
    "print(np.abs(np.sum(xactual-xmod)))\n",
    "print(np.abs(np.sum(A.dot(xactual)-B)))\n",
    "print(np.abs(np.sum(A.dot(xreal)-B)))\n",
    "print(np.abs(np.sum(A.dot(xmod)-B)))"
   ]
  },
  {
   "cell_type": "code",
   "execution_count": null,
   "metadata": {},
   "outputs": [],
   "source": [
    "np.sum((xreal-xactual)**2)"
   ]
  },
  {
   "cell_type": "code",
   "execution_count": 54,
   "metadata": {},
   "outputs": [
    {
     "data": {
      "text/plain": [
       "200"
      ]
     },
     "execution_count": 54,
     "metadata": {},
     "output_type": "execute_result"
    }
   ],
   "source": [
    "np.linalg.matrix_rank(A)"
   ]
  },
  {
   "cell_type": "code",
   "execution_count": 57,
   "metadata": {},
   "outputs": [
    {
     "data": {
      "text/plain": [
       "array([0., 0., 0., 0., 0., 0., 0., 0., 0., 0., 0., 0., 0., 0., 0., 0., 0.,\n",
       "       0., 0., 0., 0., 0., 0., 0., 0., 0., 0., 0., 0., 0., 0., 0., 0., 0.,\n",
       "       0., 0., 0., 0., 0., 0., 0., 0., 0., 0., 0., 0., 0., 0., 0., 0., 0.,\n",
       "       0., 0., 0., 0., 0., 0., 0., 0., 0., 0., 0., 0., 0., 0., 0., 0., 0.,\n",
       "       0., 0., 0., 0., 0., 0., 0., 0., 0., 0., 0., 0., 0., 0., 0., 0., 0.,\n",
       "       0., 0., 0., 0., 0., 0., 0., 0., 0., 0., 0., 0., 0., 0., 0.])"
      ]
     },
     "execution_count": 57,
     "metadata": {},
     "output_type": "execute_result"
    }
   ],
   "source": [
    "xactual[a:]-xreal[a:]"
   ]
  },
  {
   "cell_type": "code",
   "execution_count": null,
   "metadata": {},
   "outputs": [],
   "source": []
  }
 ],
 "metadata": {
  "kernelspec": {
   "display_name": "Python 2",
   "language": "python",
   "name": "python2"
  },
  "language_info": {
   "codemirror_mode": {
    "name": "ipython",
    "version": 2
   },
   "file_extension": ".py",
   "mimetype": "text/x-python",
   "name": "python",
   "nbconvert_exporter": "python",
   "pygments_lexer": "ipython2",
   "version": "2.7.12"
  }
 },
 "nbformat": 4,
 "nbformat_minor": 2
}
