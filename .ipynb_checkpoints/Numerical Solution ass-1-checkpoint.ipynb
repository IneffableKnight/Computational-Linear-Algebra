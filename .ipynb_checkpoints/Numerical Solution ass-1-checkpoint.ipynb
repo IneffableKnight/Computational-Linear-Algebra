{
 "cells": [
  {
   "cell_type": "code",
   "execution_count": 9,
   "metadata": {},
   "outputs": [],
   "source": [
    "import numpy as np"
   ]
  },
  {
   "cell_type": "markdown",
   "metadata": {},
   "source": [
    "# Say NO to hard coding"
   ]
  },
  {
   "cell_type": "code",
   "execution_count": 10,
   "metadata": {},
   "outputs": [],
   "source": [
    "def thomas(A,b):\n",
    "    n = A.shape[0]\n",
    "    p = np.zeros(n)\n",
    "    q = np.zeros(n)\n",
    "    p[0] = -1*A[0,1]/A[0,0]\n",
    "    q[0] = b[0]/A[0,0]\n",
    "    for i in range(1,n-1):\n",
    "        temp = (A[i,i]+A[i,i-1]*p[i-1])\n",
    "        p[i] = -1*A[i,i+1]/temp\n",
    "        q[i] = (b[i]-A[i,i-1]*q[i-1])/temp\n",
    "    temp = (A[n-1,n-1]+A[n-1,n-2]*p[n-2])\n",
    "    q[n-1] = (b[n-1]-A[n-1,n-2]*q[n-2])/temp\n",
    "    u = np.zeros(n)\n",
    "    u[n-1] = q[n-1]\n",
    "    for j in range(n-2,-1,-1):\n",
    "        u[j] = p[j]*u[j+1] + q[j]\n",
    "    return u\n",
    "#x = np.linalg.solve(A,d)"
   ]
  },
  {
   "cell_type": "code",
   "execution_count": 11,
   "metadata": {},
   "outputs": [
    {
     "data": {
      "image/png": "[encoded data removed]",
      "text/plain": [
       "<matplotlib.figure.Figure at 0x7f2d982dcf50>"
      ]
     },
     "metadata": {},
     "output_type": "display_data"
    },
    {
     "name": "stdout",
     "output_type": "stream",
     "text": [
      "[1.      1.0099  1.01961 1.02912 1.03842 1.04753 1.05644 1.06515 1.07366\n",
      " 1.08198 1.0901  1.09803 1.10576 1.1133  1.12066 1.12782 1.1348  1.14159\n",
      " 1.1482  1.15463 1.16088 1.16696 1.17286 1.17858 1.18414 1.18953 1.19475\n",
      " 1.19982 1.20472 1.20947 1.21407 1.21851 1.22281 1.22697 1.23098 1.23486\n",
      " 1.2386  1.24222 1.24571 1.24907 1.25231 1.25544 1.25846 1.26137 1.26417\n",
      " 1.26687 1.26948 1.27199 1.27441 1.27675 1.279  ]\n",
      "[0.   0.01 0.02 0.03 0.04 0.05 0.06 0.07 0.08 0.09 0.1  0.11 0.12 0.13\n",
      " 0.14 0.15 0.16 0.17 0.18 0.19 0.2  0.21 0.22 0.23 0.24 0.25 0.26 0.27\n",
      " 0.28 0.29 0.3  0.31 0.32 0.33 0.34 0.35 0.36 0.37 0.38 0.39 0.4  0.41\n",
      " 0.42 0.43 0.44 0.45 0.46 0.47 0.48 0.49 0.5 ]\n"
     ]
    }
   ],
   "source": [
    "a1 = 0\n",
    "b1 = 0.5 \n",
    "ya = 1\n",
    "yb = 1.279\n",
    "h = 0.01\n",
    "n = int((b1-a1)/(h) + 1)\n",
    "#-----------------------------------\n",
    "a = np.zeros([int(n-3)])\n",
    "b = np.zeros([int(n-2)])\n",
    "c = np.zeros([int(n-3)])\n",
    "d = np.zeros([int(n-2)])\n",
    "#-----------------------------\n",
    "for i in range(n-2):\n",
    "    b[i] = (-1*2/(h*h) + 2.0)   \n",
    "for i in range(n-2):\n",
    "    d[i] = 4*(a1+(h*(i+1)))\n",
    "for i in range(n-3):\n",
    "    a[i] = 1/(h*h) - (2*(a1+(2+i)*h))/(2*h)\n",
    "for i in range(n-3):\n",
    "    c[i] = 1/(h*h) + (2*(a1+(1+i)*h))/(2*h)\n",
    "d[0] = d[0] - ya*(1/(h*h)-(2*(a1+h))/(2*h))\n",
    "d[n-3] = d[n-3] - yb*(1/(h*h)+(2*(b1-h))/(2*h))\n",
    "#------------------------------\n",
    "A = np.zeros([n-2,n-2])\n",
    "aind = range(n-2)\n",
    "bind = range(1,n-2)\n",
    "cind = range(n-3)\n",
    "dind = range(n-3)\n",
    "#--------------------------------\n",
    "A[aind,aind] = b\n",
    "A[bind,dind] = a\n",
    "A[dind,bind] = c\n",
    "#--------------------------------\n",
    "x1 = thomas(A,d)\n",
    "#--------------------------------\n",
    "x2 = []\n",
    "x2.append(ya)\n",
    "x2.extend(x1)\n",
    "x2.append(yb)\n",
    "xaxis = [a1+(i*h) for i in range(n)]\n",
    "#---------------------------------\n",
    "import matplotlib.pyplot as plt\n",
    "plt.plot(xaxis, x2, 'ro')\n",
    "plt.show()\n",
    "y1value = np.around(x2, decimals=5)\n",
    "x1value = np.around(xaxis, decimals=5)\n",
    "print(y1value)\n",
    "print(x1value)"
   ]
  },
  {
   "cell_type": "code",
   "execution_count": 12,
   "metadata": {},
   "outputs": [
    {
     "data": {
      "image/png": "[encoded data removed]",
      "text/plain": [
       "<matplotlib.figure.Figure at 0x7f2da8033550>"
      ]
     },
     "metadata": {},
     "output_type": "display_data"
    },
    {
     "name": "stdout",
     "output_type": "stream",
     "text": [
      "[0.      0.00851 0.01702 0.02553 0.03405 0.04256 0.05109 0.05961 0.06815\n",
      " 0.07669 0.08523 0.09379 0.10236 0.11093 0.11952 0.12812 0.13673 0.14535\n",
      " 0.15399 0.16265 0.17132 0.18001 0.18872 0.19744 0.20619 0.21495 0.22374\n",
      " 0.23255 0.24138 0.25024 0.25912 0.26803 0.27697 0.28593 0.29492 0.30394\n",
      " 0.31299 0.32207 0.33119 0.34034 0.34952 0.35873 0.36799 0.37728 0.3866\n",
      " 0.39597 0.40537 0.41482 0.42431 0.43384 0.44341 0.45303 0.46269 0.4724\n",
      " 0.48216 0.49196 0.50181 0.51172 0.52167 0.53168 0.54174 0.55186 0.56202\n",
      " 0.57225 0.58253 0.59288 0.60328 0.61374 0.62426 0.63484 0.64549 0.65621\n",
      " 0.66698 0.67783 0.68874 0.69972 0.71078 0.7219  0.73309 0.74436 0.75571\n",
      " 0.76712 0.77862 0.79019 0.80184 0.81358 0.82539 0.83729 0.84927 0.86133\n",
      " 0.87348 0.88572 0.89805 0.91046 0.92297 0.93557 0.94826 0.96105 0.97394\n",
      " 0.98692 1.     ]\n",
      "[0.   0.01 0.02 0.03 0.04 0.05 0.06 0.07 0.08 0.09 0.1  0.11 0.12 0.13\n",
      " 0.14 0.15 0.16 0.17 0.18 0.19 0.2  0.21 0.22 0.23 0.24 0.25 0.26 0.27\n",
      " 0.28 0.29 0.3  0.31 0.32 0.33 0.34 0.35 0.36 0.37 0.38 0.39 0.4  0.41\n",
      " 0.42 0.43 0.44 0.45 0.46 0.47 0.48 0.49 0.5  0.51 0.52 0.53 0.54 0.55\n",
      " 0.56 0.57 0.58 0.59 0.6  0.61 0.62 0.63 0.64 0.65 0.66 0.67 0.68 0.69\n",
      " 0.7  0.71 0.72 0.73 0.74 0.75 0.76 0.77 0.78 0.79 0.8  0.81 0.82 0.83\n",
      " 0.84 0.85 0.86 0.87 0.88 0.89 0.9  0.91 0.92 0.93 0.94 0.95 0.96 0.97\n",
      " 0.98 0.99 1.  ]\n"
     ]
    }
   ],
   "source": [
    "a1 = 0\n",
    "b1 = 1\n",
    "ya = 0\n",
    "yb = 1\n",
    "h = 0.01\n",
    "n = int((b1-a1)/(h) + 1)\n",
    "#-----------------------------------\n",
    "a = np.zeros([int(n-3)])\n",
    "b = np.zeros([int(n-2)])\n",
    "c = np.zeros([int(n-3)])\n",
    "d = np.zeros([int(n-2)])\n",
    "#-----------------------------\n",
    "for i in range(n-2):\n",
    "    b[i] = (-1*2/(h*h) - 1)   \n",
    "for i in range(n-2):\n",
    "    d[i] = 0\n",
    "for i in range(n-3):\n",
    "    a[i] = 1/(h*h) \n",
    "for i in range(n-3):\n",
    "    c[i] = 1/(h*h) \n",
    "d[0] = d[0] - ya*(1/(h*h))\n",
    "d[n-3] = d[n-3] - yb*(1/(h*h))\n",
    "#------------------------------\n",
    "A = np.zeros([n-2,n-2])\n",
    "aind = range(n-2)\n",
    "bind = range(1,n-2)\n",
    "cind = range(n-3)\n",
    "dind = range(n-3)\n",
    "#--------------------------------\n",
    "A[aind,aind] = b\n",
    "A[bind,dind] = a\n",
    "A[dind,bind] = c\n",
    "#--------------------------------\n",
    "x1 = thomas(A,d)\n",
    "#--------------------------------\n",
    "x2 = []\n",
    "x2.append(ya)\n",
    "x2.extend(x1)\n",
    "x2.append(yb)\n",
    "xaxis = [a1+(i*h) for i in range(n)]\n",
    "#---------------------------------\n",
    "import matplotlib.pyplot as plt\n",
    "plt.plot(xaxis, x2, 'ro')\n",
    "plt.show()\n",
    "y2value = np.around(x2, decimals=5)\n",
    "x2value = np.around(xaxis, decimals=5)\n",
    "print(y2value)\n",
    "print(x2value)"
   ]
  },
  {
   "cell_type": "code",
   "execution_count": 16,
   "metadata": {},
   "outputs": [
    {
     "data": {
      "image/png": "[encoded data removed]",
      "text/plain": [
       "<matplotlib.figure.Figure at 0x7f0920041950>"
      ]
     },
     "metadata": {},
     "output_type": "display_data"
    },
    {
     "name": "stdout",
     "output_type": "stream",
     "text": [
      "[ 0.       0.00012  0.00034  0.00065  0.00105  0.00154  0.00212  0.00278\n",
      "  0.00352  0.00434  0.00523  0.0062   0.00724  0.00835  0.00953  0.01078\n",
      "  0.01209  0.01346  0.01489  0.01639  0.01794  0.01954  0.02121  0.02292\n",
      "  0.02469  0.02651  0.02838  0.03029  0.03225  0.03426  0.03631  0.03841\n",
      "  0.04054  0.04272  0.04494  0.0472   0.04949  0.05183  0.05419  0.0566 ]\n",
      "[ 1.    1.01  1.02  1.03  1.04  1.05  1.06  1.07  1.08  1.09  1.1   1.11\n",
      "  1.12  1.13  1.14  1.15  1.16  1.17  1.18  1.19  1.2   1.21  1.22  1.23\n",
      "  1.24  1.25  1.26  1.27  1.28  1.29  1.3   1.31  1.32  1.33  1.34  1.35\n",
      "  1.36  1.37  1.38  1.39]\n"
     ]
    }
   ],
   "source": [
    "a1 = 1\n",
    "b1 = 1.4 \n",
    "ya = 0\n",
    "yb = 0.0566\n",
    "#yb = 0.0106\n",
    "h = 0.01\n",
    "n = int((b1-a1)/(h) + 1)\n",
    "#-----------------------------------\n",
    "a = np.zeros([int(n-3)])\n",
    "b = np.zeros([int(n-2)])\n",
    "c = np.zeros([int(n-3)])\n",
    "d = np.zeros([int(n-2)])\n",
    "#-----------------------------\n",
    "for i in range(n-2):\n",
    "    b[i] = (-1*2/(h*h) )   \n",
    "for i in range(n-2):\n",
    "    d[i] = 1/((a1+(h*(i+1)))**2)\n",
    "for i in range(n-3):\n",
    "    a[i] = 1/(h*h) - (1/(a1+(2+i)*h))/(2*h)\n",
    "for i in range(n-3):\n",
    "    c[i] = 1/(h*h) + (1/(a1+(1+i)*h))/(2*h)\n",
    "d[0] = d[0] - ya*(1/(h*h)-(1/(a1+h))/(2*h))\n",
    "d[n-3] = d[n-3] - yb*(1/(h*h)+(1/(b1-h))/(2*h))\n",
    "#------------------------------\n",
    "A = np.zeros([n-2,n-2])\n",
    "aind = range(n-2)\n",
    "bind = range(1,n-2)\n",
    "cind = range(n-3)\n",
    "dind = range(n-3)\n",
    "#--------------------------------\n",
    "A[aind,aind] = b\n",
    "A[bind,dind] = a\n",
    "A[dind,bind] = c\n",
    "#--------------------------------\n",
    "x1 = thomas(A,d)\n",
    "#--------------------------------\n",
    "x2 = []\n",
    "x2.append(ya)\n",
    "x2.extend(x1)\n",
    "x2.append(yb)\n",
    "xaxis = [a1+(i*h) for i in range(n)]\n",
    "#---------------------------------\n",
    "import matplotlib.pyplot as plt\n",
    "plt.plot(xaxis, x2, 'ro')\n",
    "plt.show()\n",
    "y3value = np.around(x2, decimals=5)\n",
    "x3value = np.around(xaxis, decimals=5)\n",
    "print(y3value)\n",
    "print(x3value)"
   ]
  },
  {
   "cell_type": "code",
   "execution_count": 17,
   "metadata": {},
   "outputs": [
    {
     "data": {
      "image/png": "[encoded data removed]",
      "text/plain": [
       "<matplotlib.figure.Figure at 0x7f0909b1ab90>"
      ]
     },
     "metadata": {},
     "output_type": "display_data"
    },
    {
     "name": "stdout",
     "output_type": "stream",
     "text": [
      "[ 0.      -0.00149 -0.00298 -0.00447 -0.00595 -0.00744 -0.00891 -0.01039\n",
      " -0.01185 -0.01331 -0.01477 -0.01621 -0.01764 -0.01907 -0.02048 -0.02188\n",
      " -0.02327 -0.02465 -0.02601 -0.02735 -0.02868 -0.02999 -0.03128 -0.03256\n",
      " -0.03381 -0.03505 -0.03626 -0.03745 -0.03862 -0.03976 -0.04088 -0.04197\n",
      " -0.04303 -0.04407 -0.04508 -0.04606 -0.04701 -0.04793 -0.04881 -0.04966\n",
      " -0.05048 -0.05127 -0.05201 -0.05272 -0.0534  -0.05403 -0.05463 -0.05518\n",
      " -0.05569 -0.05616 -0.05659 -0.05697 -0.05731 -0.0576  -0.05784 -0.05804\n",
      " -0.05819 -0.05828 -0.05833 -0.05832 -0.05826 -0.05814 -0.05798 -0.05775\n",
      " -0.05747 -0.05712 -0.05672 -0.05626 -0.05574 -0.05516 -0.05451 -0.05379\n",
      " -0.05302 -0.05217 -0.05126 -0.05028 -0.04922 -0.0481  -0.04691 -0.04564\n",
      " -0.04429 -0.04288 -0.04138 -0.03981 -0.03816 -0.03642 -0.03461 -0.03271\n",
      " -0.03073 -0.02867 -0.02652 -0.02428 -0.02195 -0.01954 -0.01703 -0.01443\n",
      " -0.01174 -0.00895 -0.00606 -0.00308  0.     ]\n",
      "[ 0.    0.01  0.02  0.03  0.04  0.05  0.06  0.07  0.08  0.09  0.1   0.11\n",
      "  0.12  0.13  0.14  0.15  0.16  0.17  0.18  0.19  0.2   0.21  0.22  0.23\n",
      "  0.24  0.25  0.26  0.27  0.28  0.29  0.3   0.31  0.32  0.33  0.34  0.35\n",
      "  0.36  0.37  0.38  0.39  0.4   0.41  0.42  0.43  0.44  0.45  0.46  0.47\n",
      "  0.48  0.49  0.5   0.51  0.52  0.53  0.54  0.55  0.56  0.57  0.58  0.59\n",
      "  0.6   0.61  0.62  0.63  0.64  0.65  0.66  0.67  0.68  0.69  0.7   0.71\n",
      "  0.72  0.73  0.74  0.75  0.76  0.77  0.78  0.79  0.8   0.81  0.82  0.83\n",
      "  0.84  0.85  0.86  0.87  0.88  0.89  0.9   0.91  0.92  0.93  0.94  0.95\n",
      "  0.96  0.97  0.98  0.99  1.  ]\n"
     ]
    }
   ],
   "source": [
    "a1 = 0\n",
    "b1 = 1\n",
    "ya = 0\n",
    "yb = 0\n",
    "h = 0.01\n",
    "n = int((b1-a1)/(h) + 1)\n",
    "#-----------------------------------\n",
    "a = np.zeros([int(n-3)])\n",
    "b = np.zeros([int(n-2)])\n",
    "c = np.zeros([int(n-3)])\n",
    "d = np.zeros([int(n-2)])\n",
    "#-----------------------------\n",
    "for i in range(n-2):\n",
    "    b[i] = (-1*2/(h*h) -1)   \n",
    "for i in range(n-2):\n",
    "    d[i] = (a1+(h*(i+1)))\n",
    "for i in range(n-3):\n",
    "    a[i] = 1/(h*h)\n",
    "for i in range(n-3):\n",
    "    c[i] = 1/(h*h) \n",
    "d[0] = d[0] - ya*(1/(h*h))\n",
    "d[n-3] = d[n-3] - yb*(1/(h*h))\n",
    "#------------------------------\n",
    "A = np.zeros([n-2,n-2])\n",
    "aind = range(n-2)\n",
    "bind = range(1,n-2)\n",
    "cind = range(n-3)\n",
    "dind = range(n-3)\n",
    "#--------------------------------\n",
    "A[aind,aind] = b\n",
    "A[bind,dind] = a\n",
    "A[dind,bind] = c\n",
    "#--------------------------------\n",
    "x1 = thomas(A,d)\n",
    "#--------------------------------\n",
    "x2 = []\n",
    "x2.append(ya)\n",
    "x2.extend(x1)\n",
    "x2.append(yb)\n",
    "xaxis = [a1+(i*h) for i in range(n)]\n",
    "#---------------------------------\n",
    "import matplotlib.pyplot as plt\n",
    "plt.plot(xaxis, x2, 'ro')\n",
    "plt.show()\n",
    "y4value = np.around(x2, decimals=5)\n",
    "x4value = np.around(xaxis, decimals=5)\n",
    "print(y4value)\n",
    "print(x4value)"
   ]
  },
  {
   "cell_type": "code",
   "execution_count": 24,
   "metadata": {},
   "outputs": [
    {
     "data": {
      "image/png": "[encoded data removed]",
      "text/plain": [
       "<matplotlib.figure.Figure at 0x7f0917071b10>"
      ]
     },
     "metadata": {},
     "output_type": "display_data"
    }
   ],
   "source": [
    "import matplotlib.pyplot as plt\n",
    "plt.plot( y1value, 'red')\n",
    "plt.plot( y2value, 'blue')\n",
    "plt.plot(y3value, 'green')\n",
    "plt.plot( y4value, 'yellow')\n",
    "plt.show()"
   ]
  }
 ],
 "metadata": {
  "kernelspec": {
   "display_name": "Python 2",
   "language": "python",
   "name": "python2"
  },
  "language_info": {
   "codemirror_mode": {
    "name": "ipython",
    "version": 2
   },
   "file_extension": ".py",
   "mimetype": "text/x-python",
   "name": "python",
   "nbconvert_exporter": "python",
   "pygments_lexer": "ipython2",
   "version": "2.7.12"
  }
 },
 "nbformat": 4,
 "nbformat_minor": 2
}
