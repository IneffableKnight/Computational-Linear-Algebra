{
 "cells": [
  {
   "cell_type": "code",
   "execution_count": 1,
   "metadata": {},
   "outputs": [],
   "source": [
    "import numpy as np\n",
    "import time\n",
    "from numpy.linalg import inv\n",
    "from numpy import linalg"
   ]
  },
  {
   "cell_type": "markdown",
   "metadata": {},
   "source": [
    "# The Results\n",
    "# Order(python default,conjugate gradient, new algorithm)\n",
    "# 1st time then accuracy\n",
    "    2000*2000\n",
    "    0.578856868744\n",
    "    2.1384138904068095e-10\n",
    "    0.1442268204689026\n",
    "    4.611351300809474e-10\n",
    "    0.11681137084960938\n",
    "    1.3216450156505744e-10\n",
    "    200*200\n",
    "    0.0847070467472\n",
    "    1.0387246618392965e-11\n",
    "    0.0011127102375030518\n",
    "    1.2724932219043694e-11\n",
    "    0.00156427121162\n",
    "    3.0311753107525874e-11"
   ]
  },
  {
   "cell_type": "code",
   "execution_count": 2,
   "metadata": {},
   "outputs": [],
   "source": [
    "#We try to converge the proposed method using the simple inbuilt method in the computer\n",
    "#we will try to solve the equateion using the block matix\n",
    "#suppose themarix is not spd only sparse and block diagonal\n",
    "\n",
    "n = 100*100\n",
    "p = 10\n",
    "a1list = np.zeros(n)\n",
    "for i in range(n):\n",
    "    a = np.random.randint(p)\n",
    "    if a<8 :\n",
    "        a1list[i] = 1\n",
    "a2list = np.zeros(n)\n",
    "for i in range(n):\n",
    "    a = np.random.randint(p)\n",
    "    if a<8 :\n",
    "        a2list[i] = 1\n",
    "b1list = np.zeros(n)\n",
    "for i in range(n):\n",
    "    a = np.random.randint(p)\n",
    "    if a<2 :\n",
    "        b1list[i] = 1\n",
    "b2list = np.zeros(n)\n",
    "for i in range(n):\n",
    "    a = np.random.randint(p)\n",
    "    if a<2 :\n",
    "        b2list[i] = 1\n",
    "a = 100\n",
    "A1 = a1list.reshape([a,a])\n",
    "B1 = b1list.reshape([a,a])\n",
    "A2 = a2list.reshape([a,a])\n",
    "B2 = b2list.reshape([a,a])\n",
    "D1 = np.diag(500*np.ones([a]))\n",
    "A1 = A1 + D1\n",
    "A2 = A2 + D1\n",
    "Mat = np.block([[A1,B1],[B2, A2]])\n",
    "A = Mat.copy()\n",
    "np.savetxt('text.txt',A,fmt='%0.0f')\n",
    "#B = np.random.rand(200)\n",
    "B = np.random.randint(-100,300,200)"
   ]
  },
  {
   "cell_type": "code",
   "execution_count": 3,
   "metadata": {},
   "outputs": [
    {
     "data": {
      "text/plain": [
       "True"
      ]
     },
     "execution_count": 3,
     "metadata": {},
     "output_type": "execute_result"
    }
   ],
   "source": [
    "def is_pos_def(x):\n",
    "    return np.all(np.linalg.eigvals(x) > 0)\n",
    "is_pos_def(A)"
   ]
  },
  {
   "cell_type": "code",
   "execution_count": 23,
   "metadata": {},
   "outputs": [],
   "source": [
    "t1 = time.time()\n",
    "xreal = np.linalg.solve(A, B)\n",
    "t2 = time.time()"
   ]
  },
  {
   "cell_type": "code",
   "execution_count": 26,
   "metadata": {},
   "outputs": [
    {
     "name": "stdout",
     "output_type": "stream",
     "text": [
      "0.0847070467472\n"
     ]
    }
   ],
   "source": [
    "su = 0\n",
    "for i in range(200):\n",
    "    start_time = time.time()\n",
    "    xreal = np.linalg.solve(A, B)\n",
    "    a2 =(time.time() - start_time)\n",
    "    su = su + a2\n",
    "print(su/200)"
   ]
  },
  {
   "cell_type": "code",
   "execution_count": 27,
   "metadata": {},
   "outputs": [
    {
     "data": {
      "text/plain": [
       "1.0387246618392965e-11"
      ]
     },
     "execution_count": 27,
     "metadata": {},
     "output_type": "execute_result"
    }
   ],
   "source": [
    "np.sum(np.abs(A.dot(xreal)-B))"
   ]
  },
  {
   "cell_type": "code",
   "execution_count": 24,
   "metadata": {},
   "outputs": [
    {
     "data": {
      "text/plain": [
       "0.11751508712768555"
      ]
     },
     "execution_count": 24,
     "metadata": {},
     "output_type": "execute_result"
    }
   ],
   "source": [
    "t2-t1"
   ]
  },
  {
   "cell_type": "code",
   "execution_count": 28,
   "metadata": {},
   "outputs": [],
   "source": [
    "def CG(A,b,t):\n",
    "    n = A.shape[0]\n",
    "    e = t\n",
    "    x0 = np.random.rand(n)\n",
    "    #x0 = x\n",
    "    r = b - A.dot(x0)\n",
    "    p = r\n",
    "    temp1 = (np.linalg.norm(r))**2\n",
    "    for i in range(10000):\n",
    "        w = A.dot(p)\n",
    "        a = (temp1)/(p.T.dot(w))\n",
    "        x0 = x0 + a*p\n",
    "        r = r - a*w\n",
    "        temp2 = (np.linalg.norm(r))**2\n",
    "        if(temp2<e):\n",
    "            #print(i+1)\n",
    "            break\n",
    "        else:\n",
    "            b = temp2/temp1\n",
    "            p = r + b*p\n",
    "            temp1 = temp2\n",
    "    return x0"
   ]
  },
  {
   "cell_type": "code",
   "execution_count": 31,
   "metadata": {},
   "outputs": [],
   "source": [
    "p = np.abs(np.sum(A.dot(xreal)-B))**2\n",
    "su = 0\n",
    "#xreal = np.linalg.solve(A, B)\n",
    "for i in range(200):\n",
    "    start_time = time.time()\n",
    "    xcon = CG(A,B,p)\n",
    "    a2 =(time.time() - start_time)\n",
    "    su = su + a2"
   ]
  },
  {
   "cell_type": "code",
   "execution_count": 32,
   "metadata": {},
   "outputs": [
    {
     "data": {
      "text/plain": [
       "0.0011127102375030518"
      ]
     },
     "execution_count": 32,
     "metadata": {},
     "output_type": "execute_result"
    }
   ],
   "source": [
    "su/200"
   ]
  },
  {
   "cell_type": "code",
   "execution_count": 33,
   "metadata": {},
   "outputs": [
    {
     "data": {
      "text/plain": [
       "1.2724932219043694e-11"
      ]
     },
     "execution_count": 33,
     "metadata": {},
     "output_type": "execute_result"
    }
   ],
   "source": [
    "np.sum(np.abs(A.dot(xcon)-B))"
   ]
  },
  {
   "cell_type": "code",
   "execution_count": 36,
   "metadata": {},
   "outputs": [],
   "source": [
    "a1 = A[:1000,:1000].copy()\n",
    "a2 = A[1000:,1000:].copy()\n",
    "b1 = A[:1000,1000:].copy()\n",
    "b2 = A[1000:,:1000].copy()"
   ]
  },
  {
   "cell_type": "code",
   "execution_count": 45,
   "metadata": {},
   "outputs": [],
   "source": [
    "a1 = A[:100,:100].copy()\n",
    "a2 = A[100:,100:].copy()\n",
    "b1 = A[:100,100:].copy()\n",
    "b2 = A[100:,:100].copy()"
   ]
  },
  {
   "cell_type": "code",
   "execution_count": 35,
   "metadata": {},
   "outputs": [],
   "source": [
    "def CGmod(A,b,k,x):\n",
    "    n = A.shape[0]\n",
    "    #x0 = np.random.rand(n)\n",
    "    x0 = x\n",
    "    r = b - A.dot(x0)\n",
    "    p = r\n",
    "    temp1 = (np.linalg.norm(r))**2\n",
    "    for i in range(k):\n",
    "        w = A.dot(p)\n",
    "        a = (temp1)/(p.T.dot(w))\n",
    "        x0 = x0 + a*p\n",
    "        r = r - a*w\n",
    "        temp2 = (np.linalg.norm(r))**2\n",
    "        b =temp2/temp1\n",
    "        p = r + b*p\n",
    "        temp1 = temp2\n",
    "    return x0"
   ]
  },
  {
   "cell_type": "code",
   "execution_count": 213,
   "metadata": {},
   "outputs": [],
   "source": [
    "def caller(A1,A2,B1,B2,d1,d2):\n",
    "    n = A1.shape[0]\n",
    "    x1 = np.random.rand(n)\n",
    "    x2 = np.random.rand(n)\n",
    "    x0 = np.random.rand(n)\n",
    "    st = time.time()\n",
    "    #b11 = d1-B1.dot(x2)\n",
    "    #b22 = d2-B2.dot(x1)\n",
    "    for i in range(11):\n",
    "        k = 1 + int((0.50)*i)\n",
    "        #if(i%2==0)or(i>7):\n",
    "        b11 = d1-B1.dot(x2)\n",
    "        x1 = CGmod(A1,b11,k,x1)\n",
    "        ###########\n",
    "        ###########\n",
    "        #if(i%2==0)or(i>7):\n",
    "        b22 = d2-B2.dot(x1)\n",
    "        x2 = CGmod(A2,b22,k,x2)\n",
    "        ###########\n",
    "        ##########\n",
    "    return(np.concatenate((x1,x2)))"
   ]
  },
  {
   "cell_type": "code",
   "execution_count": 214,
   "metadata": {},
   "outputs": [],
   "source": [
    "d1 = B[:1000]\n",
    "d2 = B[1000:]\n",
    "su = 0\n",
    "for i in range(100):\n",
    "    t1 = time.time()\n",
    "    xmod = caller(a1,a2,b1,b2,d1,d2)\n",
    "    t2 = time.time()\n",
    "    su = su + t2-t1"
   ]
  },
  {
   "cell_type": "code",
   "execution_count": 215,
   "metadata": {},
   "outputs": [
    {
     "data": {
      "text/plain": [
       "0.11681137084960938"
      ]
     },
     "execution_count": 215,
     "metadata": {},
     "output_type": "execute_result"
    }
   ],
   "source": [
    "su/100"
   ]
  },
  {
   "cell_type": "code",
   "execution_count": 216,
   "metadata": {},
   "outputs": [
    {
     "data": {
      "text/plain": [
       "1.3216450156505744e-10"
      ]
     },
     "execution_count": 216,
     "metadata": {},
     "output_type": "execute_result"
    }
   ],
   "source": [
    "np.sum(np.abs(A.dot(xmod)-B))"
   ]
  },
  {
   "cell_type": "code",
   "execution_count": 86,
   "metadata": {},
   "outputs": [],
   "source": [
    "def caller(A1,A2,B1,B2,d1,d2):\n",
    "    n = A1.shape[0]\n",
    "    x1 = np.random.rand(n)\n",
    "    x2 = np.random.rand(n)\n",
    "    x0 = np.random.rand(n)\n",
    "    #b11 = d1-B1.dot(x2)\n",
    "    #b22 = d2-B2.dot(x1)\n",
    "    for i in range(10):\n",
    "        k = 10 + 2*i \n",
    "        if(i%2==0)or(i>7):\n",
    "            b11 = d1-B1.dot(x2)\n",
    "        #x1 = CGmod(A1,b11,k)\n",
    "        ###########\n",
    "        n = A1.shape[0]\n",
    "        x0 = np.random.rand(n)\n",
    "        r = b11 - A1.dot(x0)\n",
    "        p = r\n",
    "        temp1 = (np.linalg.norm(r))**2\n",
    "        for i in range(k):\n",
    "            w = A1.dot(p)\n",
    "            a = (temp1)/(p.T.dot(w))\n",
    "            x0 = x0 + a*p\n",
    "            r = r - a*w\n",
    "            temp2 = (np.linalg.norm(r))**2\n",
    "            b =temp2/temp1\n",
    "            p = r + b*p\n",
    "            temp1 = temp2\n",
    "        x1 = x0\n",
    "        ###########\n",
    "        if(i%2==0)or(i>7):\n",
    "            b22 = d2-B2.dot(x1)\n",
    "        #x2 = CGmod(A2,b22,k)\n",
    "        ###########\n",
    "        n = A2.shape[0]\n",
    "        x0 = np.random.rand(n)\n",
    "        r = b22 - A2.dot(x0)\n",
    "        p = r\n",
    "        temp1 = (np.linalg.norm(r))**2\n",
    "        for i in range(k):\n",
    "            w = A2.dot(p)\n",
    "            a = (temp1)/(p.T.dot(w))\n",
    "            x0 = x0 + a*p\n",
    "            r = r - a*w\n",
    "            temp2 = (np.linalg.norm(r))**2\n",
    "            b =temp2/temp1\n",
    "            p = r + b*p\n",
    "            temp1 = temp2\n",
    "        x2 = x0\n",
    "        ##########\n",
    "    return(np.concatenate((x1,x2)))"
   ]
  },
  {
   "cell_type": "code",
   "execution_count": 87,
   "metadata": {},
   "outputs": [],
   "source": [
    "d1 = B[:100]\n",
    "d2 = B[100:]\n",
    "su = 0\n",
    "for i in range(100):\n",
    "    t1 = time.time()\n",
    "    xmod = caller(a1,a2,b1,b2,d1,d2)\n",
    "    t2 = time.time()\n",
    "    su = su + t2-t1"
   ]
  },
  {
   "cell_type": "code",
   "execution_count": 88,
   "metadata": {},
   "outputs": [
    {
     "data": {
      "text/plain": [
       "0.010598487854003906"
      ]
     },
     "execution_count": 88,
     "metadata": {},
     "output_type": "execute_result"
    }
   ],
   "source": [
    "su/100"
   ]
  },
  {
   "cell_type": "code",
   "execution_count": 28,
   "metadata": {},
   "outputs": [
    {
     "data": {
      "text/plain": [
       "0.0006030858614121115"
      ]
     },
     "execution_count": 28,
     "metadata": {},
     "output_type": "execute_result"
    }
   ],
   "source": [
    "np.sum(np.abs(A.dot(xmod)-B))"
   ]
  },
  {
   "cell_type": "code",
   "execution_count": null,
   "metadata": {},
   "outputs": [],
   "source": []
  },
  {
   "cell_type": "code",
   "execution_count": null,
   "metadata": {},
   "outputs": [],
   "source": []
  },
  {
   "cell_type": "code",
   "execution_count": null,
   "metadata": {},
   "outputs": [],
   "source": [
    "def caller(A1,A2,B1,B2,d1,d2):\n",
    "    n = A1.shape[0]\n",
    "    x1 = np.random.rand(n)\n",
    "    x2 = np.random.rand(n)\n",
    "    x0 = np.random.rand(n)\n",
    "    #b11 = d1-B1.dot(x2)\n",
    "    #b22 = d2-B2.dot(x1)\n",
    "    for i in range(10):\n",
    "        k = 10 + 2*i \n",
    "        if(i%2==0)or(i>7):\n",
    "            b11 = d1-B1.dot(x2)\n",
    "        #x1 = CGmod(A1,b11,k)\n",
    "        ###########\n",
    "        n = A1.shape[0]\n",
    "        x0 = np.random.rand(n)\n",
    "        r = b11 - A1.dot(x0)\n",
    "        p = r\n",
    "        temp1 = (np.linalg.norm(r))**2\n",
    "        for i in range(k):\n",
    "            w = A1.dot(p)\n",
    "            a = (temp1)/(p.T.dot(w))\n",
    "            x0 = x0 + a*p\n",
    "            r = r - a*w\n",
    "            temp2 = (np.linalg.norm(r))**2\n",
    "            b =temp2/temp1\n",
    "            p = r + b*p\n",
    "            temp1 = temp2\n",
    "        x1 = x0\n",
    "        ###########\n",
    "        if(i%2==0)or(i>7):\n",
    "            b22 = d2-B2.dot(x1)\n",
    "        #x2 = CGmod(A2,b22,k)\n",
    "        ###########\n",
    "        n = A2.shape[0]\n",
    "        x0 = np.random.rand(n)\n",
    "        r = b22 - A2.dot(x0)\n",
    "        p = r\n",
    "        temp1 = (np.linalg.norm(r))**2\n",
    "        for i in range(k):\n",
    "            w = A2.dot(p)\n",
    "            a = (temp1)/(p.T.dot(w))\n",
    "            x0 = x0 + a*p\n",
    "            r = r - a*w\n",
    "            temp2 = (np.linalg.norm(r))**2\n",
    "            b =temp2/temp1\n",
    "            p = r + b*p\n",
    "            temp1 = temp2\n",
    "        x2 = x0\n",
    "        ##########\n",
    "    return(np.concatenate((x1,x2)))"
   ]
  },
  {
   "cell_type": "code",
   "execution_count": 37,
   "metadata": {},
   "outputs": [],
   "source": [
    "def CGmod(A,b,k,x):\n",
    "    n = A.shape[0]\n",
    "    #x0 = np.random.rand(n)\n",
    "    x0 = x\n",
    "    r = b - A.dot(x0)\n",
    "    p = r\n",
    "    temp1 = (np.linalg.norm(r))**2\n",
    "    for i in range(k):\n",
    "        w = A.dot(p)\n",
    "        a = (temp1)/(p.T.dot(w))\n",
    "        x0 = x0 + a*p\n",
    "        r = r - a*w\n",
    "        temp2 = (np.linalg.norm(r))**2\n",
    "        b =temp2/temp1\n",
    "        p = r + b*p\n",
    "        temp1 = temp2\n",
    "    return x0"
   ]
  },
  {
   "cell_type": "code",
   "execution_count": 124,
   "metadata": {},
   "outputs": [],
   "source": [
    "def caller(A1,A2,B1,B2,d1,d2):\n",
    "    n = A1.shape[0]\n",
    "    x1 = np.random.rand(n)\n",
    "    x2 = np.random.rand(n)\n",
    "    x0 = np.random.rand(n)\n",
    "    st = time.time()\n",
    "    #b11 = d1-B1.dot(x2)\n",
    "    #b22 = d2-B2.dot(x1)\n",
    "    for i in range(8):\n",
    "        k = 1 + int(0.25*i) \n",
    "        #if(i%2==0)or(i>7):\n",
    "        b11 = d1-B1.dot(x2)\n",
    "        x1 = CGmod(A1,b11,k,x1)\n",
    "        ###########\n",
    "        ###########\n",
    "        #if(i%2==0)or(i>7):\n",
    "        b22 = d2-B2.dot(x1)\n",
    "        x2 = CGmod(A2,b22,k,x2)\n",
    "        ###########\n",
    "        ##########\n",
    "    return(np.concatenate((x1,x2)))"
   ]
  },
  {
   "cell_type": "code",
   "execution_count": 129,
   "metadata": {},
   "outputs": [
    {
     "name": "stdout",
     "output_type": "stream",
     "text": [
      "0.00156427121162\n"
     ]
    }
   ],
   "source": [
    "d1 = B[:100]\n",
    "d2 = B[100:]\n",
    "su = 0\n",
    "x2 = np.random.rand(a1.shape[0])\n",
    "for i in range(1000):\n",
    "    t1 = time.time()\n",
    "    #print(d1.shape)\n",
    "    #print(b1.shape)\n",
    "    #print(a1.shape)\n",
    "    xmod = caller(a1,a2,b1,b2,d1,d2)\n",
    "    t2 = time.time()\n",
    "    su = su + t2-t1\n",
    "print(su/1000)"
   ]
  },
  {
   "cell_type": "code",
   "execution_count": 130,
   "metadata": {},
   "outputs": [
    {
     "data": {
      "text/plain": [
       "3.0311753107525874e-11"
      ]
     },
     "execution_count": 130,
     "metadata": {},
     "output_type": "execute_result"
    }
   ],
   "source": [
    "np.sum(np.abs(A.dot(xmod)-B))"
   ]
  },
  {
   "cell_type": "code",
   "execution_count": 133,
   "metadata": {},
   "outputs": [
    {
     "data": {
      "text/plain": [
       "array([ 0.49404716,  0.21539927,  0.47794661, -0.12269287, -0.02856866])"
      ]
     },
     "execution_count": 133,
     "metadata": {},
     "output_type": "execute_result"
    }
   ],
   "source": [
    "xmod[:5]"
   ]
  },
  {
   "cell_type": "code",
   "execution_count": null,
   "metadata": {},
   "outputs": [],
   "source": [
    "def CG(A,b,t):\n",
    "    n = A.shape[0]\n",
    "    e = t\n",
    "    x0 = np.random.rand(n)\n",
    "    r = b - A.dot(x0)\n",
    "    p = r\n",
    "    temp1 = (np.linalg.norm(r))**2\n",
    "    for i in range(10000):\n",
    "        w = A.dot(p)\n",
    "        a = (temp1)/(p.T.dot(w))\n",
    "        x0 = x0 + a*p\n",
    "        r = r - a*w\n",
    "        temp2 = (np.linalg.norm(r))**2\n",
    "        if(temp2<e):\n",
    "            #print(i+1)\n",
    "            break\n",
    "        else:\n",
    "            b =temp2/temp1\n",
    "            p = r + b*p\n",
    "            temp1 = temp2\n",
    "    return x0"
   ]
  }
 ],
 "metadata": {
  "kernelspec": {
   "display_name": "Python 2",
   "language": "python",
   "name": "python2"
  },
  "language_info": {
   "codemirror_mode": {
    "name": "ipython",
    "version": 2
   },
   "file_extension": ".py",
   "mimetype": "text/x-python",
   "name": "python",
   "nbconvert_exporter": "python",
   "pygments_lexer": "ipython2",
   "version": "2.7.12"
  }
 },
 "nbformat": 4,
 "nbformat_minor": 2
}
