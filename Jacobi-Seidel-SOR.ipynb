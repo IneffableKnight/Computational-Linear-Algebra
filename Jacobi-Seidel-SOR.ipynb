{
 "cells": [
  {
   "cell_type": "code",
   "execution_count": 17,
   "metadata": {
    "collapsed": true
   },
   "outputs": [],
   "source": [
    "import numpy as np\n",
    "from numpy.linalg import inv\n",
    "from numpy.linalg import matrix_rank\n",
    "from numpy import linalg"
   ]
  },
  {
   "cell_type": "code",
   "execution_count": 35,
   "metadata": {
    "collapsed": true
   },
   "outputs": [],
   "source": [
    "A = np.random.rand(5,5)\n",
    "d = 5*np.diag(np.ones(5))\n",
    "RDD = A+d\n",
    "SPD = (A@A.T)"
   ]
  },
  {
   "cell_type": "code",
   "execution_count": 36,
   "metadata": {},
   "outputs": [
    {
     "data": {
      "text/plain": [
       "array([[ 5.94850146,  0.19506428,  0.15075514,  0.33306964,  0.46649993],\n",
       "       [ 0.91954167,  5.19502551,  0.94419231,  0.68298809,  0.09634795],\n",
       "       [ 0.12822376,  0.17410727,  5.50934236,  0.06665834,  0.57491288],\n",
       "       [ 0.81045142,  0.59480245,  0.64309254,  5.83996133,  0.10162895],\n",
       "       [ 0.0857882 ,  0.9712548 ,  0.84647998,  0.24780901,  5.30461596]])"
      ]
     },
     "execution_count": 36,
     "metadata": {},
     "output_type": "execute_result"
    }
   ],
   "source": [
    "RDD"
   ]
  },
  {
   "cell_type": "code",
   "execution_count": 37,
   "metadata": {
    "collapsed": true
   },
   "outputs": [],
   "source": [
    "B = np.random.randint(5,size=5)"
   ]
  },
  {
   "cell_type": "code",
   "execution_count": 38,
   "metadata": {
    "collapsed": true
   },
   "outputs": [],
   "source": [
    "xreal = inv(A).dot(B)"
   ]
  },
  {
   "cell_type": "code",
   "execution_count": 39,
   "metadata": {},
   "outputs": [
    {
     "data": {
      "text/plain": [
       "array([-3.20083065, -2.06553335, -0.6817075 ,  7.88874165,  6.2468925 ])"
      ]
     },
     "execution_count": 39,
     "metadata": {},
     "output_type": "execute_result"
    }
   ],
   "source": [
    "xreal"
   ]
  },
  {
   "cell_type": "code",
   "execution_count": 40,
   "metadata": {
    "collapsed": true
   },
   "outputs": [],
   "source": [
    "#Jacobi\n",
    "#RDD"
   ]
  },
  {
   "cell_type": "code",
   "execution_count": 45,
   "metadata": {},
   "outputs": [
    {
     "name": "stdout",
     "output_type": "stream",
     "text": [
      "3.8761207861e-05\n",
      "12\n"
     ]
    }
   ],
   "source": [
    "A = RDD\n",
    "L = np.tril(A,-1)\n",
    "U = (np.tril(A.T,-1)).T\n",
    "D = np.diag(A.diagonal())\n",
    "e = .00001\n",
    "bj = -1*inv(D).dot(L+U)\n",
    "dj = inv(D).dot(B)\n",
    "x = np.random.randint(5,size=5)\n",
    "db = linalg.norm(B-A.dot(x))\n",
    "nb = linalg.norm(B)\n",
    "count = 0 \n",
    "while((db/nb)>=e):\n",
    "    x = bj.dot(x) + dj\n",
    "    #print(x)\n",
    "    count = count +1\n",
    "    if(count>10000):\n",
    "        break\n",
    "    db = linalg.norm(B-A.dot(x))\n",
    "    nb = linalg.norm(B)\n",
    "print(db)\n",
    "print(count)"
   ]
  },
  {
   "cell_type": "code",
   "execution_count": 43,
   "metadata": {
    "collapsed": true
   },
   "outputs": [],
   "source": [
    "#if the matrix is not RDD then divergence is happening"
   ]
  },
  {
   "cell_type": "code",
   "execution_count": 44,
   "metadata": {
    "collapsed": true
   },
   "outputs": [],
   "source": [
    "#seidel"
   ]
  },
  {
   "cell_type": "code",
   "execution_count": 49,
   "metadata": {},
   "outputs": [
    {
     "name": "stdout",
     "output_type": "stream",
     "text": [
      "5\n",
      "9.63889361835e-06\n"
     ]
    }
   ],
   "source": [
    "A = RDD\n",
    "L = np.tril(A,-1)\n",
    "U = (np.tril(A.T,-1)).T\n",
    "D = np.diag(A.diagonal())\n",
    "e = .00001\n",
    "bg = -1*inv(D+L).dot(U)\n",
    "dg = inv(D+L).dot(B)\n",
    "x = (np.random.randint(5,size=5))\n",
    "db = linalg.norm(B)\n",
    "nb = linalg.norm(B-A.dot(x))\n",
    "count = 0 \n",
    "while((nb/db)>=e):\n",
    "    x = bg.dot(x) + dg\n",
    "    count = count +1\n",
    "    if(count>10000):\n",
    "        break\n",
    "    db = linalg.norm(B)\n",
    "    nb = linalg.norm(B-A.dot(x))\n",
    "print(count)\n",
    "print(nb/db)"
   ]
  },
  {
   "cell_type": "code",
   "execution_count": 53,
   "metadata": {
    "collapsed": true
   },
   "outputs": [],
   "source": [
    "#SOR"
   ]
  },
  {
   "cell_type": "code",
   "execution_count": 51,
   "metadata": {},
   "outputs": [
    {
     "name": "stdout",
     "output_type": "stream",
     "text": [
      "318\n",
      "9.81735944188e-06\n"
     ]
    }
   ],
   "source": [
    "A = SPD\n",
    "L = np.tril(A,-1)\n",
    "U = (np.tril(A.T,-1)).T\n",
    "D = np.diag(A.diagonal())\n",
    "e = .00001\n",
    "bg = -1*inv(D+L).dot(U)\n",
    "dg = inv(D+L).dot(B)\n",
    "x = (np.random.randint(5,size=5))\n",
    "db = linalg.norm(B)\n",
    "nb = linalg.norm(B-A.dot(x))\n",
    "count = 0 \n",
    "while((nb/db)>=e):\n",
    "    x = bg.dot(x) + dg\n",
    "    count = count +1\n",
    "    if(count>10000):\n",
    "        break\n",
    "    db = linalg.norm(B)\n",
    "    nb = linalg.norm(B-A.dot(x))\n",
    "print(count)\n",
    "print(nb/db)"
   ]
  },
  {
   "cell_type": "code",
   "execution_count": 52,
   "metadata": {
    "collapsed": true
   },
   "outputs": [],
   "source": [
    "#Seidel with SPD"
   ]
  },
  {
   "cell_type": "code",
   "execution_count": 50,
   "metadata": {},
   "outputs": [
    {
     "name": "stdout",
     "output_type": "stream",
     "text": [
      "192\n",
      "9.49592419961e-06\n"
     ]
    }
   ],
   "source": [
    "A = SPD\n",
    "L = np.tril(A,-1)\n",
    "U = (np.tril(A.T,-1)).T\n",
    "D = np.diag(A.diagonal())\n",
    "e = .00001\n",
    "w = 1.2\n",
    "bsor = inv(D+w*L).dot((1-w)*D-w*U)\n",
    "dsor = w*inv(D+w*L).dot(B)\n",
    "x = (np.random.randint(5,size=5))\n",
    "db = linalg.norm(B)\n",
    "nb = linalg.norm(B-A.dot(x))\n",
    "count = 0 \n",
    "while((nb/db)>=e):\n",
    "    x = bsor.dot(x) + dsor\n",
    "    count = count +1\n",
    "    if(count>100000):\n",
    "        break\n",
    "    db = linalg.norm(B)\n",
    "    nb = linalg.norm(B-A.dot(x))\n",
    "print(count)\n",
    "print(nb/db)\n",
    "#w,v =(linalg.eig(bsor))\n",
    "#p = np.absolute(np.amax(w))\n",
    "#print(2/(1+np.sqrt(1-p)**2))"
   ]
  }
 ],
 "metadata": {
  "kernelspec": {
   "display_name": "Python 3",
   "language": "python",
   "name": "python3"
  },
  "language_info": {
   "codemirror_mode": {
    "name": "ipython",
    "version": 3
   },
   "file_extension": ".py",
   "mimetype": "text/x-python",
   "name": "python",
   "nbconvert_exporter": "python",
   "pygments_lexer": "ipython3",
   "version": "3.6.3"
  }
 },
 "nbformat": 4,
 "nbformat_minor": 2
}
