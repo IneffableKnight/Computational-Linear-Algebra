{
 "cells": [
  {
   "cell_type": "code",
   "execution_count": 123,
   "metadata": {
    "collapsed": true
   },
   "outputs": [],
   "source": [
    "import numpy as np\n",
    "from numpy import linalg "
   ]
  },
  {
   "cell_type": "code",
   "execution_count": 124,
   "metadata": {
    "collapsed": true
   },
   "outputs": [],
   "source": [
    "#input A(symmetric N,N), v, m<n\n",
    "#output V(m+1) T(m)"
   ]
  },
  {
   "cell_type": "code",
   "execution_count": 125,
   "metadata": {
    "collapsed": true
   },
   "outputs": [],
   "source": [
    "def lanczos(A,v,m):\n",
    "    n = A.shape[0]\n",
    "    a = np.zeros(m)\n",
    "    b = np.zeros(m)\n",
    "    V = np.zeros([n,m+1])\n",
    "    v0 = 0\n",
    "    V[:,0] = v/np.linalg.norm(v)\n",
    "    temp = 0\n",
    "    for i in range(m):\n",
    "        if(i==0):\n",
    "            temp = A.dot(V[:,i])\n",
    "        else:\n",
    "            temp = A.dot(V[:,i]) - b[i-1]*V[:,i-1]\n",
    "        a[i] = V[:,i].T.dot(temp)\n",
    "        temp = temp - a[i]*V[:,i]\n",
    "        b[i] = np.linalg.norm(temp)\n",
    "        if(b[i]==0 and (i!=m-1)):\n",
    "            print(\"breakdown\")\n",
    "            break\n",
    "        else:\n",
    "            V[:,i+1] = temp/b[i]\n",
    "    for i in range(1,m):\n",
    "        print(np.sum((A@V[:,i] - (a[i]*V[:,i] + b[i-1]*V[:,i-1] + b[i]*V[:,i+1]))))\n",
    "    return V , a, b"
   ]
  },
  {
   "cell_type": "code",
   "execution_count": 126,
   "metadata": {
    "collapsed": true
   },
   "outputs": [],
   "source": [
    "# to solve the Ax = b \n",
    "# lot of stuff for tridiagonal symmetric matrix but using thomas(can't utilise the symmetric fact)\n",
    "def thomas(A,b):\n",
    "    n = A.shape[0]\n",
    "    p = np.zeros(n)\n",
    "    q = np.zeros(n)\n",
    "    p[0] = -1*A[0,1]/A[0,0]\n",
    "    q[0] = b[0]/A[0,0]\n",
    "    for i in range(1,n-1):\n",
    "        temp = (A[i,i]+A[i,i-1]*p[i-1])\n",
    "        p[i] = -1*A[i,i+1]/temp\n",
    "        q[i] = (b[i]-A[i,i-1]*q[i-1])/temp\n",
    "    temp = (A[n-1,n-1]+A[n-1,n-2]*p[n-2])\n",
    "    q[n-1] = (b[n-1]-A[n-1,n-2]*q[n-2])/temp\n",
    "    u = np.zeros(n)\n",
    "    u[n-1] = q[n-1]\n",
    "    for j in range(n-2,-1,-1):\n",
    "        u[j] = p[j]*u[j+1] + q[j]\n",
    "    return u"
   ]
  },
  {
   "cell_type": "code",
   "execution_count": 127,
   "metadata": {
    "collapsed": true
   },
   "outputs": [],
   "source": [
    "A = np.array([[1,2,0,0,0],[2,2,1,0,0],[0,1,3,2,0],[0,0,2,4,1],[0,0,0,1,5]])"
   ]
  },
  {
   "cell_type": "code",
   "execution_count": 128,
   "metadata": {
    "collapsed": true
   },
   "outputs": [],
   "source": [
    "b = np.array([2,1,4,5,2])"
   ]
  },
  {
   "cell_type": "code",
   "execution_count": 129,
   "metadata": {
    "collapsed": true
   },
   "outputs": [],
   "source": [
    "x = np.linalg.solve(A, b)"
   ]
  },
  {
   "cell_type": "code",
   "execution_count": 130,
   "metadata": {},
   "outputs": [
    {
     "data": {
      "text/plain": [
       "array([-1.03225806,  1.51612903,  0.03225806,  1.19354839,  0.16129032])"
      ]
     },
     "execution_count": 130,
     "metadata": {},
     "output_type": "execute_result"
    }
   ],
   "source": [
    "x"
   ]
  },
  {
   "cell_type": "code",
   "execution_count": 131,
   "metadata": {
    "collapsed": true
   },
   "outputs": [],
   "source": [
    "y = thomas(A,b)"
   ]
  },
  {
   "cell_type": "code",
   "execution_count": 132,
   "metadata": {},
   "outputs": [
    {
     "data": {
      "text/plain": [
       "array([-1.03225806,  1.51612903,  0.03225806,  1.19354839,  0.16129032])"
      ]
     },
     "execution_count": 132,
     "metadata": {},
     "output_type": "execute_result"
    }
   ],
   "source": [
    "y"
   ]
  },
  {
   "cell_type": "code",
   "execution_count": 133,
   "metadata": {
    "collapsed": true
   },
   "outputs": [],
   "source": [
    "A1 = np.random.rand(10,10) \n",
    "A = A1+A1.T\n",
    "binitial = np.random.rand(10)\n",
    "x0 = np.random.rand(10)"
   ]
  },
  {
   "cell_type": "code",
   "execution_count": 152,
   "metadata": {},
   "outputs": [
    {
     "name": "stdout",
     "output_type": "stream",
     "text": [
      "-6.66133814775e-16\n",
      "0.0\n",
      "-8.32667268469e-17\n",
      "-1.38777878078e-16\n",
      "2.08166817117e-17\n",
      "2.77555756156e-17\n",
      "9.71445146547e-17\n",
      "2.77555756156e-17\n",
      "-2.77555756156e-17\n",
      "2.58391434673e-06\n",
      "[ 2.06782079  1.54653179  5.51174991  0.91540047  1.04589131  4.07502584\n",
      "  0.41323382  1.67426985  0.08815662  0.87055102]\n"
     ]
    }
   ],
   "source": [
    "m = 10 #value of m has to be adjusted\n",
    "V,a,b = lanczos(A,x0,m)\n",
    "T = np.diag(a,0)+np.diag(b[:m-1],-1)+np.diag(b[:m-1],1)\n",
    "r = A.dot(x0) - binitial\n",
    "e = np.zeros(m)\n",
    "e[0] = 1\n",
    "b1 = np.linalg.norm(r)*e\n",
    "y = thomas(T,b1)\n",
    "x = x0 + V[:,:m].dot(y)\n",
    "print(np.sum(A@V[:,:m]-V[:,:m]@T))\n",
    "print(A@V[:,:m]@y)"
   ]
  },
  {
   "cell_type": "code",
   "execution_count": 153,
   "metadata": {
    "collapsed": true
   },
   "outputs": [],
   "source": [
    "s = np.linalg.solve(A, binitial)"
   ]
  },
  {
   "cell_type": "code",
   "execution_count": 154,
   "metadata": {},
   "outputs": [
    {
     "data": {
      "text/plain": [
       "7.7022254459174544"
      ]
     },
     "execution_count": 154,
     "metadata": {},
     "output_type": "execute_result"
    }
   ],
   "source": [
    "np.linalg.norm(A@x0 - binitial)"
   ]
  },
  {
   "cell_type": "code",
   "execution_count": 155,
   "metadata": {},
   "outputs": [
    {
     "data": {
      "text/plain": [
       "14.008750534240518"
      ]
     },
     "execution_count": 155,
     "metadata": {},
     "output_type": "execute_result"
    }
   ],
   "source": [
    "np.linalg.norm(A@x - binitial)"
   ]
  },
  {
   "cell_type": "code",
   "execution_count": 156,
   "metadata": {},
   "outputs": [
    {
     "data": {
      "text/plain": [
       "array([-0.61435044,  3.15374104, -0.61948103, -0.39874448, -5.6493444 ,\n",
       "        1.2004501 , -5.93604139,  5.98635995,  1.53329284,  6.34036448])"
      ]
     },
     "execution_count": 156,
     "metadata": {},
     "output_type": "execute_result"
    }
   ],
   "source": [
    "x-s"
   ]
  },
  {
   "cell_type": "code",
   "execution_count": null,
   "metadata": {
    "collapsed": true
   },
   "outputs": [],
   "source": []
  }
 ],
 "metadata": {
  "kernelspec": {
   "display_name": "Python 3",
   "language": "python",
   "name": "python3"
  },
  "language_info": {
   "codemirror_mode": {
    "name": "ipython",
    "version": 3
   },
   "file_extension": ".py",
   "mimetype": "text/x-python",
   "name": "python",
   "nbconvert_exporter": "python",
   "pygments_lexer": "ipython3",
   "version": "3.6.2"
  }
 },
 "nbformat": 4,
 "nbformat_minor": 2
}
