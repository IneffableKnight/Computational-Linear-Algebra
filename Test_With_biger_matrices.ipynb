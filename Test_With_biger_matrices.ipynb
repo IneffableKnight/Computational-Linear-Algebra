{
 "cells": [
  {
   "cell_type": "code",
   "execution_count": 1,
   "metadata": {},
   "outputs": [],
   "source": [
    "import numpy as np\n",
    "import time\n",
    "from numpy.linalg import inv\n",
    "from numpy import linalg"
   ]
  },
  {
   "cell_type": "code",
   "execution_count": 2,
   "metadata": {},
   "outputs": [],
   "source": [
    "def mat(n,p,x,y):\n",
    "    list1 = np.zeros(n)\n",
    "    z = int(p*100)\n",
    "    for i in range(n):\n",
    "        a = np.random.randint(100)\n",
    "        if a<z:\n",
    "            list1[i] = 1\n",
    "    lis = list1.reshape([x,y])\n",
    "    return lis"
   ]
  },
  {
   "cell_type": "code",
   "execution_count": 3,
   "metadata": {},
   "outputs": [],
   "source": [
    "def block_mat(t):\n",
    "    size = t*100\n",
    "    Matrix = np.zeros([size,size])\n",
    "    for i in range(t):\n",
    "        #generate the row set\n",
    "        #lhs\n",
    "        if i>0:\n",
    "            p = 0.1\n",
    "            x = 100\n",
    "            y = i*100\n",
    "            n = x*y\n",
    "            Matrix[i*100:(i+1)*100,:i*100] = mat(n,p,x,y)\n",
    "        #block\n",
    "        p = 0.8\n",
    "        x = 100\n",
    "        y = 100\n",
    "        n = x*y\n",
    "        Matrix[i*100:(i+1)*100,i*100:(i+1)*100] = mat(n,p,x,y)\n",
    "        #rhs\n",
    "        if i<(t-1):\n",
    "            p = 0.1\n",
    "            x = 100\n",
    "            y = (t*100-(i+1)*100)\n",
    "            n = x*y\n",
    "            Matrix[i*100:(i+1)*100,(i+1)*100:] = mat(n,p,x,y)\n",
    "    return Matrix"
   ]
  },
  {
   "cell_type": "markdown",
   "metadata": {},
   "source": [
    "# def caller(A,B,t):\n",
    "    n = (A.shape[0])\n",
    "    q = int(n/t)\n",
    "    sol = np.random.rand(n)\n",
    "    x0 = np.random.rand(n)\n",
    "    st = time.time()\n",
    "    for i in range(10):\n",
    "        k = 10 + 2*i \n",
    "        ###########\n",
    "        temp = np.zeros(q)\n",
    "        for j in range(t):\n",
    "            if i>0:\n",
    "                temp = B[j*q:(j+1)*q] - A[i*q:(i+1)*q,:i*q].dot(sol[:(i)*q])\n",
    "            if i<(t-1):\n",
    "                temp = temp - A[i*q:(i+1)*q,(i+1)*q:].dot(sol[(i+1)*q:])\n",
    "            x0 = sol[i*q:(i+1)*q]\n",
    "            r = temp - A1.dot(x0)\n",
    "            p = r\n",
    "            temp1 = (np.linalg.norm(r))**2\n",
    "            for i in range(k):\n",
    "                w = A[i*q:(i+1)*q,i*q:(i+1)*q].dot(p)\n",
    "                a = (temp1)/(p.T.dot(w))\n",
    "                x0 = x0 + a*p\n",
    "                r = r - a*w\n",
    "                temp2 = (np.linalg.norm(r))**2\n",
    "                b = temp2/temp1\n",
    "                p = r + b*p\n",
    "                temp1 = temp2\n",
    "            sol[i*q:(i+1)*q] = x0   \n",
    "    return sol\n",
    "        ###########"
   ]
  },
  {
   "cell_type": "code",
   "execution_count": 4,
   "metadata": {},
   "outputs": [],
   "source": [
    "t = 10\n",
    "Matrix = block_mat(t)\n",
    "D = np.diag(400*np.ones([t*100]))\n",
    "Matrix = Matrix + D\n",
    "A = Matrix.copy()\n",
    "np.savetxt('text.txt',A[:100,100:],fmt='%0.0f')\n",
    "B = np.random.randint(-500,500,t*100)"
   ]
  },
  {
   "cell_type": "code",
   "execution_count": 19,
   "metadata": {},
   "outputs": [
    {
     "data": {
      "text/plain": [
       "True"
      ]
     },
     "execution_count": 19,
     "metadata": {},
     "output_type": "execute_result"
    }
   ],
   "source": [
    "def is_pos_def(x):\n",
    "    return np.all(np.linalg.eigvals(x) > 0)\n",
    "is_pos_def(A)"
   ]
  },
  {
   "cell_type": "code",
   "execution_count": 20,
   "metadata": {},
   "outputs": [
    {
     "name": "stdout",
     "output_type": "stream",
     "text": [
      "1000\n"
     ]
    }
   ],
   "source": [
    "print(np.linalg.matrix_rank(A))"
   ]
  },
  {
   "cell_type": "markdown",
   "metadata": {},
   "source": [
    "# python default\n",
    "    t1 = time.time()\n",
    "    xreal = np.linalg.solve(A, B)\n",
    "    t2 = time.time()"
   ]
  },
  {
   "cell_type": "code",
   "execution_count": 5,
   "metadata": {},
   "outputs": [
    {
     "name": "stdout",
     "output_type": "stream",
     "text": [
      "0.387259829044\n"
     ]
    }
   ],
   "source": [
    "su = 0\n",
    "for i in range(100):\n",
    "    start_time = time.time()\n",
    "    xreal = np.linalg.solve(A, B)\n",
    "    a2 =(time.time() - start_time)\n",
    "    su = su + a2\n",
    "print(su/100)"
   ]
  },
  {
   "cell_type": "code",
   "execution_count": 6,
   "metadata": {},
   "outputs": [
    {
     "data": {
      "text/plain": [
       "1.5403767150701242e-10"
      ]
     },
     "execution_count": 6,
     "metadata": {},
     "output_type": "execute_result"
    }
   ],
   "source": [
    "np.sum(np.abs(A.dot(xreal)-B))"
   ]
  },
  {
   "cell_type": "code",
   "execution_count": 16,
   "metadata": {},
   "outputs": [],
   "source": [
    "def CG(A,b,t):\n",
    "    n = A.shape[0]\n",
    "    e = t\n",
    "    x0 = np.random.rand(n)\n",
    "    r = b - A.dot(x0)\n",
    "    p = r\n",
    "    temp1 = (np.linalg.norm(r))**2\n",
    "    for i in range(10000):\n",
    "        w = A.dot(p)\n",
    "        a = (temp1)/(p.T.dot(w))\n",
    "        x0 = x0 + a*p\n",
    "        r = r - a*w\n",
    "        temp2 = (np.linalg.norm(r))**2\n",
    "        if(temp2<e):\n",
    "            #print(i+1)\n",
    "            break\n",
    "        else:\n",
    "            b =temp2/temp1\n",
    "            p = r + b*p\n",
    "            temp1 = temp2\n",
    "    return x0"
   ]
  },
  {
   "cell_type": "code",
   "execution_count": 8,
   "metadata": {},
   "outputs": [
    {
     "name": "stdout",
     "output_type": "stream",
     "text": [
      "0.0251899695396\n"
     ]
    }
   ],
   "source": [
    "p = np.abs(np.sum(A.dot(xreal)-B))**2\n",
    "su = 0\n",
    "for i in range(100):\n",
    "    start_time = time.time()\n",
    "    xcon = CG(A,B,p)\n",
    "    a2 =(time.time() - start_time)\n",
    "    su = su + a2\n",
    "print(su/100)"
   ]
  },
  {
   "cell_type": "code",
   "execution_count": 9,
   "metadata": {},
   "outputs": [
    {
     "data": {
      "text/plain": [
       "1.1268408428577459e-10"
      ]
     },
     "execution_count": 9,
     "metadata": {},
     "output_type": "execute_result"
    }
   ],
   "source": [
    "np.sum(np.abs(A.dot(xcon)-B))"
   ]
  },
  {
   "cell_type": "code",
   "execution_count": 17,
   "metadata": {},
   "outputs": [],
   "source": [
    "def CG1(A,b,t,x0):\n",
    "    n = A.shape[0]\n",
    "    e = t\n",
    "    r = b - A.dot(x0)\n",
    "    p = r\n",
    "    temp1 = (np.linalg.norm(r))**2\n",
    "    for i in range(10000):\n",
    "        w = A.dot(p)\n",
    "        a = (temp1)/(p.T.dot(w))\n",
    "        x0 = x0 + a*p\n",
    "        r = r - a*w\n",
    "        temp2 = (np.linalg.norm(r))**2\n",
    "        if(temp2<e):\n",
    "            #print(i+1)\n",
    "            break\n",
    "        else:\n",
    "            b =temp2/temp1\n",
    "            p = r + b*p\n",
    "            temp1 = temp2\n",
    "    return x0"
   ]
  },
  {
   "cell_type": "code",
   "execution_count": 18,
   "metadata": {},
   "outputs": [
    {
     "name": "stdout",
     "output_type": "stream",
     "text": [
      "0.0310811376572\n"
     ]
    }
   ],
   "source": [
    "p = np.abs(np.sum(A.dot(xreal)-B))**2\n",
    "su = 0\n",
    "for i in range(100):\n",
    "    start_time = time.time()\n",
    "    x = np.zeros(1000)\n",
    "    for i in range(10):\n",
    "        x[i*100:(i+1)*100] = CG(A[i*100:(i+1)*100,i*100:(i+1)*100], B[i*100:(i+1)*100],p)\n",
    "    xcon = CG1(A,B,p,x)\n",
    "    a2 =(time.time() - start_time)\n",
    "    su = su + a2\n",
    "print(su/100)"
   ]
  },
  {
   "cell_type": "code",
   "execution_count": 14,
   "metadata": {},
   "outputs": [],
   "source": [
    "# new algo for 10 blocks"
   ]
  },
  {
   "cell_type": "code",
   "execution_count": null,
   "metadata": {},
   "outputs": [],
   "source": [
    "def caller(A,B,t,u,v,rr):\n",
    "    n = (A.shape[0])\n",
    "    q = int(n/t)\n",
    "    sol = np.random.rand(n)\n",
    "    x0 = np.random.rand(n)\n",
    "    for j in range(u):\n",
    "        k = rr + int(v*j) \n",
    "        ###########\n",
    "        temp = np.zeros(q)\n",
    "        #####################################################################\n",
    "        for i in range(t):\n",
    "            if i>0 and i<(t-1):\n",
    "                temp = B[i*q:(i+1)*q] - A[i*q:(i+1)*q,:i*q].dot(sol[:(i)*q])\n",
    "                temp = temp - A[i*q:(i+1)*q,(i+1)*q:].dot(sol[(i+1)*q:])\n",
    "            if i==(t-1):\n",
    "                temp = B[i*q:(i+1)*q] - A[i*q:(i+1)*q,:i*q].dot(sol[:(i)*q])\n",
    "            if i==0:\n",
    "                temp = B[i*q:(i+1)*q] - A[i*q:(i+1)*q,(i+1)*q:].dot(sol[(i+1)*q:])\n",
    "            x0 = sol[i*q:(i+1)*q]\n",
    "            r = temp - A[i*q:(i+1)*q,i*q:(i+1)*q].dot(x0)\n",
    "            p = r\n",
    "            temp1 = (np.linalg.norm(r))**2\n",
    "            #####################################################################\n",
    "            for k in range(k):\n",
    "                w = A[i*q:(i+1)*q,i*q:(i+1)*q].dot(p)\n",
    "                a = (temp1)/(p.T.dot(w))\n",
    "                x0 = x0 + a*p\n",
    "                r = r - a*w\n",
    "                temp2 = (np.linalg.norm(r))**2\n",
    "                b = temp2/temp1\n",
    "                p = r + b*p\n",
    "                temp1 = temp2\n",
    "            sol[i*q:(i+1)*q] = x0   \n",
    "            ###############################################################\n",
    "    return sol\n",
    "        ###########"
   ]
  },
  {
   "cell_type": "code",
   "execution_count": 1,
   "metadata": {},
   "outputs": [],
   "source": [
    "#modified on 25 Feb"
   ]
  },
  {
   "cell_type": "code",
   "execution_count": 37,
   "metadata": {},
   "outputs": [
    {
     "name": "stdout",
     "output_type": "stream",
     "text": [
      "296114.59181077126\n",
      "3019.1594705220823\n"
     ]
    }
   ],
   "source": [
    "n = (A.shape[0])\n",
    "sol = np.random.rand(n)\n",
    "print(np.abs(np.sum(A.dot(sol)-B)))\n",
    "q = int(n/10)\n",
    "for uu in range(t):\n",
    "    sol[uu*q:(uu+1)*q] = CG(A[uu*q:(uu+1)*q,uu*q:(uu+1)*q],B[uu*q:(uu+1)*q],pp)\n",
    "print(np.abs(np.sum(A.dot(sol)-B)))"
   ]
  },
  {
   "cell_type": "code",
   "execution_count": 118,
   "metadata": {},
   "outputs": [],
   "source": [
    "def caller(A,B,t,u,v,rr,pp):\n",
    "    n = (A.shape[0])\n",
    "    q = int(n/t)\n",
    "    sol = np.random.rand(n)\n",
    "    for uu in range(t):\n",
    "        sol[uu*q:(uu+1)*q] = CG(A[uu*q:(uu+1)*q,uu*q:(uu+1)*q],B[uu*q:(uu+1)*q],pp)\n",
    "    #print(np.abs(np.sum(A.dot(sol)-B)))\n",
    "    #x0 = np.random.rand(n)\n",
    "    #lis = []\n",
    "    for j in range(u):\n",
    "        #lis.append(np.abs(np.sum(A.dot(sol)-B)))\n",
    "        k = rr + int(v*j*j) \n",
    "        ###########\n",
    "        temp = np.zeros(q)\n",
    "        #####################################################################   \n",
    "        for i in range(t):\n",
    "            if i>0 and i<(t-1):\n",
    "                temp = B[i*q:(i+1)*q] - A[i*q:(i+1)*q,:i*q].dot(sol[:(i)*q])\n",
    "                temp = temp - A[i*q:(i+1)*q,(i+1)*q:].dot(sol[(i+1)*q:])\n",
    "            if i==(t-1):\n",
    "                temp = B[i*q:(i+1)*q] - A[i*q:(i+1)*q,:i*q].dot(sol[:(i)*q])\n",
    "            if i==0:\n",
    "                temp = B[i*q:(i+1)*q] - A[i*q:(i+1)*q,(i+1)*q:].dot(sol[(i+1)*q:])\n",
    "            ##################################################################\n",
    "            x0 = sol[i*q:(i+1)*q]\n",
    "            r = temp - A[i*q:(i+1)*q,i*q:(i+1)*q].dot(x0)\n",
    "            p = r\n",
    "            temp1 = (np.linalg.norm(r))**2\n",
    "            #####################################################################\n",
    "            for k in range(k):\n",
    "                w = A[i*q:(i+1)*q,i*q:(i+1)*q].dot(p)\n",
    "                a = (temp1)/(p.T.dot(w))\n",
    "                x0 = x0 + a*p\n",
    "                r = r - a*w\n",
    "                temp2 = (np.linalg.norm(r))**2\n",
    "                b = temp2/temp1\n",
    "                p = r + b*p\n",
    "                temp1 = temp2\n",
    "            sol[i*q:(i+1)*q] = x0   \n",
    "            ###############################################################\n",
    "    #import matplotlib.pyplot as plt\n",
    "    #plt.plot(lis, 'b')\n",
    "    #plt.show()\n",
    "    return sol\n",
    "        ###########"
   ]
  },
  {
   "cell_type": "code",
   "execution_count": 122,
   "metadata": {},
   "outputs": [
    {
     "name": "stdout",
     "output_type": "stream",
     "text": [
      "0.295560970306\n",
      "3.6850522633358196e-11\n"
     ]
    }
   ],
   "source": [
    "# take only those i such that i*int(1000/i) = 1000\n",
    "#outer loop 8 and inner initial atleast 3 and coeff 0.4 gave 0.058 ....1.17 order(-10) for 2 blocks\n",
    "#outer loop 11 and inner initial atleast 4 and coeff 0.4 gave 0.058 ....1.6 order(-10) for 4 blocks\n",
    "#outer loop 11 and inner initial atleast 5 and coeff 0.4 gave 0.055 ....1.3 order(-10) for 5 blocks\n",
    "#outer loop 17 and inner initial atleast 6 and coeff 0.4 gave 0.1 .... 7.36 order(-10) for 8 blocks\n",
    "#outer loop 24 and inner initial atleast 3 and coeff 0.55 gave 0.1374 ...1.0 order(-10) for 10 blocks\n",
    "#fixed number of outer loop(determines the order of accuracy) >>> then other two hyper parameters\n",
    "pp = np.abs(np.sum(A.dot(xreal)-B))**2\n",
    "pp = p/10\n",
    "t1 = time.time()\n",
    "for m in range(100):\n",
    "    xmod = caller(A,B,10,14,0.5,5,pp)\n",
    "t2 = time.time()\n",
    "print((t2-t1)/100)\n",
    "print(np.sum(np.abs(A.dot(xmod)-B)))"
   ]
  },
  {
   "cell_type": "code",
   "execution_count": 105,
   "metadata": {},
   "outputs": [],
   "source": [
    "z = -np.array(lis1)+np.array(lis2)"
   ]
  },
  {
   "cell_type": "code",
   "execution_count": 107,
   "metadata": {},
   "outputs": [
    {
     "data": {
      "image/png": "[encoded data removed]",
      "text/plain": [
       "<matplotlib.figure.Figure at 0x7fbe06b4c790>"
      ]
     },
     "metadata": {},
     "output_type": "display_data"
    }
   ],
   "source": [
    "import matplotlib.pyplot as plt\n",
    "plt.plot(lis1, 'b')\n",
    "plt.plot(lis2, 'r')\n",
    "plt.show()"
   ]
  },
  {
   "cell_type": "code",
   "execution_count": null,
   "metadata": {},
   "outputs": [],
   "source": []
  },
  {
   "cell_type": "code",
   "execution_count": null,
   "metadata": {},
   "outputs": [],
   "source": []
  },
  {
   "cell_type": "code",
   "execution_count": null,
   "metadata": {},
   "outputs": [],
   "source": []
  },
  {
   "cell_type": "code",
   "execution_count": 44,
   "metadata": {},
   "outputs": [],
   "source": [
    "l1 = [10]\n",
    "l2 = [0.3,0.5,.8,1]\n",
    "l3 = [1,3,6,8,10,12,15]\n",
    "lis1 = []\n",
    "lis2 = []\n",
    "su = 0\n",
    "for i in l1:\n",
    "    for j in l2:\n",
    "        for k in l3:\n",
    "            t1 = time.time()\n",
    "            for m in range(10):\n",
    "                xmod = caller(A,B,5,i,j,10)\n",
    "            t2 = time.time()\n",
    "            #print(i,j,k)\n",
    "            #print((t2-t1)/10)\n",
    "            #print(np.sum(np.abs(A.dot(xmod)-B)))\n",
    "            lis1.append(t2-t1)\n",
    "            lis2.append(np.sum(np.abs(A.dot(xmod)-B)))\n",
    "            #print(\"-------\")"
   ]
  },
  {
   "cell_type": "code",
   "execution_count": 139,
   "metadata": {},
   "outputs": [
    {
     "data": {
      "image/png": "[encoded data removed]",
      "text/plain": [
       "<matplotlib.figure.Figure at 0x7fcab6e59210>"
      ]
     },
     "metadata": {},
     "output_type": "display_data"
    }
   ],
   "source": [
    "import matplotlib.pyplot as plt\n",
    "plt.plot(lis1, 'r')\n",
    "plt.show()"
   ]
  },
  {
   "cell_type": "code",
   "execution_count": 140,
   "metadata": {},
   "outputs": [
    {
     "data": {
      "image/png": "[encoded data removed]",
      "text/plain": [
       "<matplotlib.figure.Figure at 0x7fcab6fa1810>"
      ]
     },
     "metadata": {},
     "output_type": "display_data"
    }
   ],
   "source": [
    "import matplotlib.pyplot as plt\n",
    "plt.plot(lis2, 'b')\n",
    "plt.show()"
   ]
  },
  {
   "cell_type": "code",
   "execution_count": 128,
   "metadata": {},
   "outputs": [
    {
     "name": "stdout",
     "output_type": "stream",
     "text": [
      "0.0542416596413\n",
      "0.0007670001642252622\n"
     ]
    }
   ],
   "source": [
    "su = 0\n",
    "for i in range(100):\n",
    "    t1 = time.time()\n",
    "    xmod = caller(A,B,5)\n",
    "    t2 = time.time()\n",
    "    su = su + t2-t1\n",
    "print(su/100)\n",
    "print(np.sum(np.abs(A.dot(xmod)-B)))"
   ]
  },
  {
   "cell_type": "code",
   "execution_count": 104,
   "metadata": {},
   "outputs": [
    {
     "data": {
      "text/plain": [
       "1000"
      ]
     },
     "execution_count": 104,
     "metadata": {},
     "output_type": "execute_result"
    }
   ],
   "source": [
    "4*int(1000/4)"
   ]
  },
  {
   "cell_type": "code",
   "execution_count": null,
   "metadata": {},
   "outputs": [],
   "source": []
  }
 ],
 "metadata": {
  "kernelspec": {
   "display_name": "Python 2",
   "language": "python",
   "name": "python2"
  },
  "language_info": {
   "codemirror_mode": {
    "name": "ipython",
    "version": 2
   },
   "file_extension": ".py",
   "mimetype": "text/x-python",
   "name": "python",
   "nbconvert_exporter": "python",
   "pygments_lexer": "ipython2",
   "version": "2.7.12"
  }
 },
 "nbformat": 4,
 "nbformat_minor": 2
}
