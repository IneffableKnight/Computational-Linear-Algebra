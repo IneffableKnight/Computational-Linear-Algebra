{
 "cells": [
  {
   "cell_type": "code",
   "execution_count": 32,
   "metadata": {
    "collapsed": true
   },
   "outputs": [],
   "source": [
    "# generating a block matrix with more density at diagonal blocks"
   ]
  },
  {
   "cell_type": "code",
   "execution_count": 40,
   "metadata": {
    "collapsed": true
   },
   "outputs": [],
   "source": [
    "import numpy as np\n",
    "from numpy.linalg import inv\n",
    "from numpy import linalg"
   ]
  },
  {
   "cell_type": "code",
   "execution_count": 87,
   "metadata": {},
   "outputs": [],
   "source": [
    "a = np.random.rand(100,100)\n",
    "A = a@a.T\n",
    "x1 = range(0,50)\n",
    "x2 = range(50,100)\n",
    "y1 = range(50,100)\n",
    "y2 = range(0,50)\n",
    "A[50:,:50] = 0\n",
    "A[:50,50:] = 0\n",
    "val = np.random.rand(50)\n",
    "A[x1,y1] = val\n",
    "A[x2,y2] = val"
   ]
  },
  {
   "cell_type": "code",
   "execution_count": 91,
   "metadata": {
    "collapsed": true
   },
   "outputs": [],
   "source": [
    "A = A@A.T"
   ]
  },
  {
   "cell_type": "code",
   "execution_count": 97,
   "metadata": {},
   "outputs": [
    {
     "data": {
      "text/plain": [
       "2500"
      ]
     },
     "execution_count": 97,
     "metadata": {},
     "output_type": "execute_result"
    }
   ],
   "source": [
    "np.count_nonzero(A[50:,:50])"
   ]
  },
  {
   "cell_type": "code",
   "execution_count": 92,
   "metadata": {},
   "outputs": [],
   "source": [
    "#Part1 : We solve the SPD with seidel method using a fixed number of iteration i.e. 1000"
   ]
  },
  {
   "cell_type": "code",
   "execution_count": 93,
   "metadata": {},
   "outputs": [
    {
     "name": "stdout",
     "output_type": "stream",
     "text": [
      "8356058.9289\n",
      "799.770256798\n",
      "10448.0741286\n"
     ]
    }
   ],
   "source": [
    "x = np.random.rand(100)\n",
    "B = np.random.rand(100)\n",
    "L = np.tril(A,-1)\n",
    "U = (np.tril(A.T,-1)).T\n",
    "D = np.diag(A.diagonal())\n",
    "bg = -1*inv(D+L).dot(U)\n",
    "dg = inv(D+L).dot(B)\n",
    "nbi = linalg.norm(B-A.dot(x))\n",
    "count = 0 \n",
    "while(count<1000):\n",
    "    x = bg.dot(x) + dg\n",
    "    count = count +1\n",
    "nbf = linalg.norm(B-A.dot(x))\n",
    "print(nbi)\n",
    "print(nbf)\n",
    "print(nbi/nbf)"
   ]
  },
  {
   "cell_type": "code",
   "execution_count": 75,
   "metadata": {},
   "outputs": [
    {
     "name": "stdout",
     "output_type": "stream",
     "text": [
      "10\n",
      "nan\n"
     ]
    }
   ],
   "source": [
    "L = np.tril(A,-1)\n",
    "U = (np.tril(A.T,-1)).T\n",
    "D = np.diag(A.diagonal())\n",
    "B = np.random.randint(5,size=100)\n",
    "e = .00001\n",
    "bg = -1*inv(D+L).dot(U)\n",
    "dg = inv(D+L).dot(B)\n",
    "x = (np.random.randint(5,size=100))\n",
    "db = linalg.norm(B)\n",
    "nb = linalg.norm(B-A.dot(x))\n",
    "count = 0 \n",
    "while((nb/db)>=e):\n",
    "    x = bg.dot(x) + dg\n",
    "    count = count +1\n",
    "    if(count>10000):\n",
    "        break\n",
    "    db = linalg.norm(B)\n",
    "    nb = linalg.norm(B-A.dot(x))\n",
    "print(count)\n",
    "print(nb/db)"
   ]
  },
  {
   "cell_type": "code",
   "execution_count": 61,
   "metadata": {},
   "outputs": [
    {
     "data": {
      "text/plain": [
       "array([[  1.05379506e+04,   9.87281903e+03,   1.12312584e+00,\n",
       "          8.56223955e+01,   4.33249839e+01],\n",
       "       [  9.87281903e+03,   9.33257855e+03,   1.31079281e+00,\n",
       "          8.05654222e+01,   4.47357163e+01],\n",
       "       [  1.12312584e+00,   1.31079281e+00,   9.60891037e+03,\n",
       "          8.62652540e+03,   8.80690003e+03],\n",
       "       [  8.56223955e+01,   8.05654222e+01,   8.62652540e+03,\n",
       "          7.80008671e+03,   7.91766990e+03],\n",
       "       [  4.33249839e+01,   4.47357163e+01,   8.80690003e+03,\n",
       "          7.91766990e+03,   8.13690341e+03]])"
      ]
     },
     "execution_count": 61,
     "metadata": {},
     "output_type": "execute_result"
    }
   ],
   "source": [
    "A[48:53,48:53]"
   ]
  },
  {
   "cell_type": "code",
   "execution_count": null,
   "metadata": {
    "collapsed": true
   },
   "outputs": [],
   "source": []
  }
 ],
 "metadata": {
  "kernelspec": {
   "display_name": "Python 3",
   "language": "python",
   "name": "python3"
  },
  "language_info": {
   "codemirror_mode": {
    "name": "ipython",
    "version": 3
   },
   "file_extension": ".py",
   "mimetype": "text/x-python",
   "name": "python",
   "nbconvert_exporter": "python",
   "pygments_lexer": "ipython3",
   "version": "3.6.2"
  }
 },
 "nbformat": 4,
 "nbformat_minor": 2
}
