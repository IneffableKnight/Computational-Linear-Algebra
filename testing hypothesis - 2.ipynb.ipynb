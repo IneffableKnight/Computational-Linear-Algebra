{
 "cells": [
  {
   "cell_type": "code",
   "execution_count": 24,
   "metadata": {
    "collapsed": true
   },
   "outputs": [],
   "source": [
    "import numpy as np\n",
    "from numpy.linalg import inv\n",
    "from numpy import linalg\n",
    "import time"
   ]
  },
  {
   "cell_type": "code",
   "execution_count": 25,
   "metadata": {
    "collapsed": true
   },
   "outputs": [],
   "source": [
    "a = np.random.rand(100,100)\n",
    "d = 100*np.diag(np.ones(100))\n",
    "#a1 = np.random.randint(50,size=2000)\n",
    "#a2 = np.random.randint(50,size=2000)\n",
    "#a[:50,50:] \n",
    "#a[a1,(a2+50)] = 0\n",
    "#a[(a1+50),(a2)] = 0"
   ]
  },
  {
   "cell_type": "code",
   "execution_count": 26,
   "metadata": {
    "collapsed": true
   },
   "outputs": [],
   "source": [
    "# for jacobi method we need RDD\n",
    "A = a+d\n",
    "#A = A @ A.T"
   ]
  },
  {
   "cell_type": "code",
   "execution_count": 27,
   "metadata": {
    "collapsed": true
   },
   "outputs": [],
   "source": [
    "B = np.random.rand(100)"
   ]
  },
  {
   "cell_type": "code",
   "execution_count": null,
   "metadata": {
    "collapsed": true
   },
   "outputs": [],
   "source": []
  },
  {
   "cell_type": "code",
   "execution_count": 28,
   "metadata": {},
   "outputs": [
    {
     "name": "stdout",
     "output_type": "stream",
     "text": [
      "762.029094892\n"
     ]
    }
   ],
   "source": [
    "xin = np.random.rand(A.shape[0])\n",
    "inin = linalg.norm(B-A.dot(xin))\n",
    "print(inin)"
   ]
  },
  {
   "cell_type": "code",
   "execution_count": 29,
   "metadata": {
    "collapsed": true
   },
   "outputs": [],
   "source": [
    "#model-1"
   ]
  },
  {
   "cell_type": "code",
   "execution_count": 30,
   "metadata": {},
   "outputs": [
    {
     "name": "stdout",
     "output_type": "stream",
     "text": [
      "0.0009551048278808594\n",
      "2.26877302556e-18\n"
     ]
    }
   ],
   "source": [
    "start_time = time.time()\n",
    "xreal = inv(A).dot(B)\n",
    "a1= (time.time() - start_time)\n",
    "lat1 = linalg.norm(B-A.dot(xreal))\n",
    "print(a1)\n",
    "print(lat1/inin)"
   ]
  },
  {
   "cell_type": "code",
   "execution_count": 31,
   "metadata": {
    "collapsed": true
   },
   "outputs": [],
   "source": [
    "#model-2(solving the matrix as a whole)"
   ]
  },
  {
   "cell_type": "code",
   "execution_count": 32,
   "metadata": {},
   "outputs": [
    {
     "name": "stdout",
     "output_type": "stream",
     "text": [
      "0.0024895668029785156\n",
      "0.000381512717992\n"
     ]
    }
   ],
   "source": [
    "# solving the RDD A by jacobi method for 10 iterations\n",
    "x1 = xin\n",
    "start_time = time.time()\n",
    "L = np.tril(A,-1)\n",
    "U = (np.tril(A.T,-1)).T\n",
    "D = np.diag(A.diagonal())\n",
    "bj = -1*inv(D).dot(L+U)\n",
    "dj = inv(D).dot(B)\n",
    "count = 0 \n",
    "while(1):\n",
    "    x1 = bj.dot(x1) + dj\n",
    "    count = count +1\n",
    "    if(count>10):\n",
    "        break\n",
    "a2 = (time.time() - start_time)\n",
    "lat2 = linalg.norm(B-A.dot(x1))\n",
    "print(a2)\n",
    "print(lat2/inin)"
   ]
  },
  {
   "cell_type": "code",
   "execution_count": 33,
   "metadata": {
    "collapsed": true
   },
   "outputs": [],
   "source": [
    "#model-3(solving with the dense part)"
   ]
  },
  {
   "cell_type": "code",
   "execution_count": 34,
   "metadata": {},
   "outputs": [
    {
     "name": "stdout",
     "output_type": "stream",
     "text": [
      "0.0031652450561523438\n",
      "1.3487594149e-07\n"
     ]
    }
   ],
   "source": [
    "# Now working using new hypothesis\n",
    "# divide into 4 parts\n",
    "# and solve 2 equations\n",
    "# put the 1st equation value to next after each iteration\n",
    "x = xin\n",
    "A1 = A[:50,:50]\n",
    "A2 = A[50:,50:]\n",
    "B1 = A[:50,50:]\n",
    "B2 = A[50:,:50]\n",
    "x1 = x[:50]\n",
    "x2 = x[50:]\n",
    "b1 = B[:50]\n",
    "b2 = B[50:]\n",
    "start_time = time.time()\n",
    "#####\n",
    "# solving the RDD A by jacobi method for 10 iterations\n",
    "L1 = np.tril(A1,-1)\n",
    "U1 = (np.tril(A1.T,-1)).T\n",
    "D1 = np.diag(A1.diagonal())\n",
    "L2 = np.tril(A2,-1)\n",
    "U2 = (np.tril(A2.T,-1)).T\n",
    "D2 = np.diag(A2.diagonal())\n",
    "bj1 = -1*inv(D1).dot(L1+U1)\n",
    "bj2 = -1*inv(D2).dot(L2+U2)\n",
    "count = 0 \n",
    "while(1):\n",
    "    b = b1 - B1@x2 \n",
    "    dj1 = inv(D1).dot(b)\n",
    "    x1 = bj1.dot(x1) + dj1\n",
    "    b = b2 - B2@x1 \n",
    "    dj2 = inv(D2).dot(b)\n",
    "    x2 = bj2.dot(x2) + dj2\n",
    "    count = count +1\n",
    "    if(count>10):\n",
    "        break\n",
    "########\n",
    "a3 =(time.time() - start_time)\n",
    "x[:50] = x1\n",
    "x[50:] = x2\n",
    "lat3 = linalg.norm(B-A.dot(x))\n",
    "print(a3)\n",
    "print(lat3/inin)"
   ]
  },
  {
   "cell_type": "code",
   "execution_count": 21,
   "metadata": {
    "collapsed": true
   },
   "outputs": [],
   "source": [
    "#model-4(solving with the sparse part)-----------This will not work as the B part is not diagonally dominant"
   ]
  },
  {
   "cell_type": "code",
   "execution_count": 23,
   "metadata": {},
   "outputs": [
    {
     "name": "stdout",
     "output_type": "stream",
     "text": [
      "0.0032258033752441406\n",
      "inf\n"
     ]
    }
   ],
   "source": [
    "# Now working using new hypothesis\n",
    "# divide into 4 parts\n",
    "# and solve 2 equations\n",
    "# put the 1st equation value to next after each iteration\n",
    "x = xin\n",
    "A1 = A[:50,:50]\n",
    "A2 = A[50:,50:]\n",
    "B1 = A[:50,50:]\n",
    "B2 = A[50:,:50]\n",
    "x1 = x[:50]\n",
    "x2 = x[50:]\n",
    "b1 = B[:50]\n",
    "b2 = B[50:]\n",
    "start_time = time.time()\n",
    "#####\n",
    "# solving the RDD A by jacobi method for 10 iterations\n",
    "L1 = np.tril(A1,-1)\n",
    "U1 = (np.tril(A1.T,-1)).T\n",
    "D1 = np.diag(A1.diagonal())\n",
    "L2 = np.tril(A2,-1)\n",
    "U2 = (np.tril(A2.T,-1)).T\n",
    "D2 = np.diag(A2.diagonal())\n",
    "bj1 = -1*inv(D1).dot(L1+U1)\n",
    "bj2 = -1*inv(D2).dot(L2+U2)\n",
    "count = 0 \n",
    "while(1):\n",
    "    b = b1 - B1@x2 \n",
    "    dj1 = inv(D1).dot(b)\n",
    "    x1 = bj1.dot(x1) + dj1\n",
    "    b = b2 - B2@x1 \n",
    "    dj2 = inv(D2).dot(b)\n",
    "    x2 = bj2.dot(x2) + dj2\n",
    "    count = count +1\n",
    "    if(count>10):\n",
    "        break\n",
    "########\n",
    "a3 =(time.time() - start_time)\n",
    "x[:50] = x1\n",
    "x[50:] = x2\n",
    "lat3 = linalg.norm(B-A.dot(x))\n",
    "print(a3)\n",
    "print(lat3/inin)"
   ]
  },
  {
   "cell_type": "code",
   "execution_count": 24,
   "metadata": {
    "collapsed": true
   },
   "outputs": [],
   "source": [
    "#model-5(ignoring the sparse part)"
   ]
  },
  {
   "cell_type": "code",
   "execution_count": 35,
   "metadata": {},
   "outputs": [
    {
     "name": "stdout",
     "output_type": "stream",
     "text": [
      "0.0015921592712402344\n",
      "0.00123183906036\n"
     ]
    }
   ],
   "source": [
    "# Now working using new hypothesis\n",
    "# divide into 4 parts\n",
    "# and solve 2 equations\n",
    "# put the 1st equation value to next after each iteration\n",
    "A1 = A[:50,:50]\n",
    "A2 = A[50:,50:]\n",
    "B1 = A[:50,50:]\n",
    "B2 = A[50:,:50]\n",
    "x1 = xin[:50]\n",
    "x2 = xin[50:]\n",
    "b1 = B[:50]\n",
    "b2 = B[50:]\n",
    "start_time = time.time()\n",
    "#####\n",
    "# solving the RDD A by jacobi method for 10 iterations\n",
    "L1 = np.tril(A1,-1)\n",
    "U1 = (np.tril(A1.T,-1)).T\n",
    "D1 = np.diag(A1.diagonal())\n",
    "L2 = np.tril(A2,-1)\n",
    "U2 = (np.tril(A2.T,-1)).T\n",
    "D2 = np.diag(A2.diagonal())\n",
    "bj1 = -1*inv(D1).dot(L1+U1)\n",
    "bj2 = -1*inv(D2).dot(L2+U2)\n",
    "dj1 = inv(D1).dot(b1)\n",
    "dj2 = inv(D2).dot(b2)\n",
    "count = 0 \n",
    "while(1):\n",
    "    x1 = bj1.dot(x1) + dj1\n",
    "    x2 = bj2.dot(x2) + dj2\n",
    "    count = count +1\n",
    "    if(count>10):\n",
    "        break\n",
    "########\n",
    "a5 = (time.time() - start_time)\n",
    "x = np.random.rand(A.shape[0])\n",
    "x[:50] = x1\n",
    "x[50:] = x2\n",
    "lat5 = linalg.norm(B-A.dot(x))\n",
    "print(a5)\n",
    "print(lat5/inin)"
   ]
  },
  {
   "cell_type": "code",
   "execution_count": 36,
   "metadata": {
    "collapsed": true
   },
   "outputs": [],
   "source": [
    "[lat1,lat2,lat3,lat4,lat5] = [lat1,lat2,lat3,lat4,lat5]/inin"
   ]
  },
  {
   "cell_type": "code",
   "execution_count": 37,
   "metadata": {},
   "outputs": [
    {
     "name": "stdout",
     "output_type": "stream",
     "text": [
      "0.00000 0.00038 0.00000 inf 0.00123\n"
     ]
    }
   ],
   "source": [
    "print(\"%.5f\"%lat1,\"%.5f\"%lat2,\"%.5f\"%lat3,\"%.5f\"%lat4,\"%.5f\"%lat5,)"
   ]
  }
 ],
 "metadata": {
  "kernelspec": {
   "display_name": "Python 2",
   "language": "python",
   "name": "python2"
  },
  "language_info": {
   "codemirror_mode": {
    "name": "ipython",
    "version": 2
   },
   "file_extension": ".py",
   "mimetype": "text/x-python",
   "name": "python",
   "nbconvert_exporter": "python",
   "pygments_lexer": "ipython2",
   "version": "2.7.12"
  }
 },
 "nbformat": 4,
 "nbformat_minor": 2
}
