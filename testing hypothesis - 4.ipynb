{
 "cells": [
  {
   "cell_type": "code",
   "execution_count": 1,
   "metadata": {},
   "outputs": [],
   "source": [
    "#First use standard Symmentric conjugate method to solve the matrix of size 100*100\n",
    "#Second deploy the discussed method"
   ]
  },
  {
   "cell_type": "code",
   "execution_count": 2,
   "metadata": {},
   "outputs": [],
   "source": [
    "import numpy as np\n",
    "import time"
   ]
  },
  {
   "cell_type": "code",
   "execution_count": 3,
   "metadata": {},
   "outputs": [],
   "source": [
    "from numpy.linalg import inv\n",
    "from numpy import linalg\n",
    "from scipy import linalg"
   ]
  },
  {
   "cell_type": "code",
   "execution_count": 4,
   "metadata": {},
   "outputs": [],
   "source": [
    "#A = np.random.rand(101,101)\n",
    "#B = np.random.rand(101,101)\n",
    "#C = np.zeros((101,101))\n",
    "#Mat = np.block([[A,C],[C, B]])\n",
    "#x = np.array([0,20,40,60,80,110,130,150,170,190])\n",
    "#y = np.array([110,130,150,170,190,0,20,40,60,80])\n",
    "#z = np.random.rand(x.shape[0])\n",
    "#Mat[x,y] = z"
   ]
  },
  {
   "cell_type": "code",
   "execution_count": 5,
   "metadata": {},
   "outputs": [],
   "source": [
    "A1 = np.random.rand(101,101)\n",
    "A2 = np.random.rand(101,101)\n",
    "B1 = np.zeros((101,101))\n",
    "x1 = np.array([0,25,30,70,80])\n",
    "y1 = np.array([4,30,21,76,82])\n",
    "z1 = np.random.rand(x1.shape[0])\n",
    "B1[x1,y1] = z1\n",
    "B2 = (B1.T).copy()\n",
    "Mat = np.block([\n",
    "[A1,B1],[B2, A2]])"
   ]
  },
  {
   "cell_type": "code",
   "execution_count": 6,
   "metadata": {},
   "outputs": [],
   "source": [
    "A = Mat.dot(Mat.T)"
   ]
  },
  {
   "cell_type": "code",
   "execution_count": 7,
   "metadata": {},
   "outputs": [
    {
     "data": {
      "text/plain": [
       "True"
      ]
     },
     "execution_count": 7,
     "metadata": {},
     "output_type": "execute_result"
    }
   ],
   "source": [
    "def is_pos_def(x):\n",
    "    return np.all(np.linalg.eigvals(x) > 0)\n",
    "is_pos_def(A)"
   ]
  },
  {
   "cell_type": "code",
   "execution_count": 8,
   "metadata": {},
   "outputs": [],
   "source": [
    "mat=np.matrix(A!=0)\n",
    "g = mat.astype(int)\n",
    "np.savetxt('text.txt',g[101:,:101],fmt='%.0f')"
   ]
  },
  {
   "cell_type": "code",
   "execution_count": 9,
   "metadata": {},
   "outputs": [
    {
     "name": "stdout",
     "output_type": "stream",
     "text": [
      "1316.1044166343186\n",
      "10\n"
     ]
    }
   ],
   "source": [
    "print(np.sum(A[101:,101:])/np.sum(A[:101,101:]))\n",
    "print(np.sum(g[101:,101:])/np.sum(g[:101,101:]))"
   ]
  },
  {
   "cell_type": "code",
   "execution_count": 10,
   "metadata": {},
   "outputs": [
    {
     "name": "stdout",
     "output_type": "stream",
     "text": [
      "1312.3941680085384\n",
      "10\n"
     ]
    }
   ],
   "source": [
    "print(np.sum(A[:101:,:101])/np.sum(A[101:,:101]))\n",
    "print(np.sum(g[:101:,:101])/np.sum(g[101:,:101]))"
   ]
  },
  {
   "cell_type": "code",
   "execution_count": 11,
   "metadata": {},
   "outputs": [],
   "source": [
    "B = np.random.rand(202)"
   ]
  },
  {
   "cell_type": "code",
   "execution_count": 12,
   "metadata": {},
   "outputs": [],
   "source": [
    "start_time = time.time()\n",
    "xreal = np.linalg.solve(A, B)\n",
    "a1 =(time.time() - start_time)"
   ]
  },
  {
   "cell_type": "code",
   "execution_count": 13,
   "metadata": {},
   "outputs": [
    {
     "data": {
      "text/plain": [
       "0.09283900260925293"
      ]
     },
     "execution_count": 13,
     "metadata": {},
     "output_type": "execute_result"
    }
   ],
   "source": [
    "a1"
   ]
  },
  {
   "cell_type": "code",
   "execution_count": 14,
   "metadata": {},
   "outputs": [],
   "source": [
    "def CG(A,b,t):\n",
    "    n = A.shape[0]\n",
    "    e = t\n",
    "    x0 = np.random.rand(n)\n",
    "    r = b - A.dot(x0)\n",
    "    p = r\n",
    "    temp1 = (np.linalg.norm(r))**2\n",
    "    for i in range(10000):\n",
    "        w = A.dot(p)\n",
    "        a = (temp1)/(p.T.dot(w))\n",
    "        x0 = x0 + a*p\n",
    "        r = r - a*w\n",
    "        temp2 = (np.linalg.norm(r))**2\n",
    "        if(temp2<e):\n",
    "            print(i+1)\n",
    "            #print((np.sum(A@x-B))**2)\n",
    "            #print(temp2)\n",
    "            #print(e)\n",
    "            break\n",
    "        else:\n",
    "            b =temp2/temp1\n",
    "            p = r + b*p\n",
    "            temp1 = temp2\n",
    "    return x0"
   ]
  },
  {
   "cell_type": "code",
   "execution_count": 15,
   "metadata": {},
   "outputs": [
    {
     "name": "stdout",
     "output_type": "stream",
     "text": [
      "623\n"
     ]
    }
   ],
   "source": [
    "p = np.abs(np.sum(A.dot(xreal)-B))**2\n",
    "start_time = time.time()\n",
    "xcon = CG(A,B,p)\n",
    "a2 =(time.time() - start_time)"
   ]
  },
  {
   "cell_type": "code",
   "execution_count": 16,
   "metadata": {},
   "outputs": [
    {
     "data": {
      "text/plain": [
       "0.060244083404541016"
      ]
     },
     "execution_count": 16,
     "metadata": {},
     "output_type": "execute_result"
    }
   ],
   "source": [
    "a2"
   ]
  },
  {
   "cell_type": "code",
   "execution_count": 17,
   "metadata": {},
   "outputs": [
    {
     "name": "stdout",
     "output_type": "stream",
     "text": [
      "1.7735044544053835e-09\n",
      "4.664915009833237e-09\n",
      "1.9476453783084935e-10\n",
      "-23.951562547205896\n",
      "0.648909205306\n"
     ]
    }
   ],
   "source": [
    "print(np.abs(np.sum(xcon-xreal)))\n",
    "print(np.abs(np.sum(A.dot(xcon)-B)))\n",
    "print(np.abs(np.sum(A.dot(xreal)-B)))\n",
    "print((np.sum(A.dot(xcon)-B))/(np.abs(np.sum(A.dot(xreal)-B))))\n",
    "print(a2/a1)"
   ]
  },
  {
   "cell_type": "markdown",
   "metadata": {},
   "source": [
    "# Conclusion : Conjugate method is almost equivalent to Normal Python Method in terms of time and accuracy infact sometimes better. Now we Deploy the proposed method using the iterative approach (Gauss-seidel, Conjugate gradient) "
   ]
  },
  {
   "cell_type": "code",
   "execution_count": 59,
   "metadata": {},
   "outputs": [],
   "source": [
    "#Now we will solve the equation \n",
    "#A1X1+ B1X2 = D1\n",
    "#B2X1+ A2X2 = D2\n",
    "#We will solve the dense part first and converge the vector using the conjugate gradient and then \n",
    "#use the sparse part iteratively from part to part"
   ]
  },
  {
   "cell_type": "code",
   "execution_count": 60,
   "metadata": {},
   "outputs": [],
   "source": [
    "A1 = (A[:101,:101])\n",
    "A2 = (A[101:,101:])\n",
    "B1 = (A[:101,101:])\n",
    "B2 = (A[101:,:101])"
   ]
  },
  {
   "cell_type": "code",
   "execution_count": 61,
   "metadata": {},
   "outputs": [],
   "source": [
    "def CGmod(A,b):\n",
    "    n = A.shape[0]\n",
    "    x0 = np.random.rand(n)\n",
    "    r = b - A.dot(x0)\n",
    "    p = r\n",
    "    temp1 = (np.linalg.norm(r))**2\n",
    "    for i in range(250):\n",
    "        w = A.dot(p)\n",
    "        a = (temp1)/(p.T.dot(w))\n",
    "        x0 = x0 + a*p\n",
    "        r = r - a*w\n",
    "        temp2 = (np.linalg.norm(r))**2\n",
    "        b =temp2/temp1\n",
    "        p = r + b*p\n",
    "        temp1 = temp2\n",
    "    return x0"
   ]
  },
  {
   "cell_type": "code",
   "execution_count": 62,
   "metadata": {},
   "outputs": [],
   "source": [
    "def caller(A1,A2,B1,B2,d1,d2):\n",
    "    n = A1.shape[0]\n",
    "    x1 = np.random.rand(n)\n",
    "    x2 = np.random.rand(n)\n",
    "    for i in range(10):\n",
    "        b1 = d1-B1.dot(x2)\n",
    "        x1 = CGmod(A1,b1)\n",
    "        b2 = d2-B2.dot(x1)\n",
    "        x2 = CGmod(A2,b2)\n",
    "    return(np.concatenate((x1,x2)))"
   ]
  },
  {
   "cell_type": "code",
   "execution_count": 63,
   "metadata": {},
   "outputs": [],
   "source": [
    "d1 = B[:101]\n",
    "d2 = B[101:]\n",
    "start_time = time.time()\n",
    "xmod = caller(A1,A2,B1,B2,d1,d2)\n",
    "a3 =(time.time() - start_time)"
   ]
  },
  {
   "cell_type": "code",
   "execution_count": 64,
   "metadata": {},
   "outputs": [
    {
     "name": "stdout",
     "output_type": "stream",
     "text": [
      "13705.568157817357\n",
      "1.5898314675855119e-07\n",
      "57.92707098536619\n",
      "-2.7445397126796597e-09\n",
      "5.49433992746\n",
      "2.81645493496\n"
     ]
    }
   ],
   "source": [
    "print(np.abs(np.sum(xcon-xmod)))\n",
    "print(np.abs(np.sum(A.dot(xcon)-B)))\n",
    "print(np.abs(np.sum(A.dot(xmod)-B)))\n",
    "print((np.sum(A.dot(xcon)-B))/(np.abs(np.sum(A.dot(xmod)-B))))\n",
    "print(a3/a2)\n",
    "print(a3/a1)"
   ]
  },
  {
   "cell_type": "code",
   "execution_count": 65,
   "metadata": {},
   "outputs": [
    {
     "data": {
      "text/plain": [
       "array([ -1.16023545,   7.61013791,  -8.30943087,   9.52900272,\n",
       "       -31.71673281])"
      ]
     },
     "execution_count": 65,
     "metadata": {},
     "output_type": "execute_result"
    }
   ],
   "source": [
    "xmod[:5]"
   ]
  },
  {
   "cell_type": "code",
   "execution_count": 66,
   "metadata": {},
   "outputs": [
    {
     "data": {
      "text/plain": [
       "array([ -7975.23250273,   -401.29708423,  -8639.53249515,   1635.33075159,\n",
       "       -12050.57614569])"
      ]
     },
     "execution_count": 66,
     "metadata": {},
     "output_type": "execute_result"
    }
   ],
   "source": [
    "xcon[:5]"
   ]
  },
  {
   "cell_type": "code",
   "execution_count": 67,
   "metadata": {},
   "outputs": [
    {
     "data": {
      "text/plain": [
       "array([ -7975.23250965,   -401.29708461,  -8639.53250243,   1635.33075292,\n",
       "       -12050.57615548])"
      ]
     },
     "execution_count": 67,
     "metadata": {},
     "output_type": "execute_result"
    }
   ],
   "source": [
    "xreal[:5]"
   ]
  },
  {
   "cell_type": "markdown",
   "metadata": {
    "collapsed": true
   },
   "source": [
    "# Conclusion : The conjugate method is accurate"
   ]
  },
  {
   "cell_type": "code",
   "execution_count": null,
   "metadata": {
    "collapsed": true
   },
   "outputs": [],
   "source": []
  },
  {
   "cell_type": "code",
   "execution_count": 217,
   "metadata": {},
   "outputs": [
    {
     "name": "stdout",
     "output_type": "stream",
     "text": [
      "213618\n",
      "9.99996428331575e-06\n"
     ]
    }
   ],
   "source": [
    "L = np.tril(A,-1)\n",
    "U = (np.tril(A.T,-1)).T\n",
    "D = np.diag(A.diagonal())\n",
    "e = .00001\n",
    "w = 1.2\n",
    "bsor = inv(D+w*L).dot((1-w)*D-w*U)\n",
    "dsor = w*inv(D+w*L).dot(B)\n",
    "x = (np.random.rand(A.shape[0]))\n",
    "db = linalg.norm(B)\n",
    "nb = linalg.norm(B-A.dot(x))\n",
    "count = 0 \n",
    "start_time = time.time()\n",
    "while((nb/db)>=e):\n",
    "    x = bsor.dot(x) + dsor\n",
    "    count = count +1\n",
    "    if(count>1000000):\n",
    "        break\n",
    "    db = linalg.norm(B)\n",
    "    nb = linalg.norm(B-A.dot(x))\n",
    "a4 =(time.time() - start_time)\n",
    "print(count)\n",
    "print(nb/db)"
   ]
  },
  {
   "cell_type": "code",
   "execution_count": 218,
   "metadata": {},
   "outputs": [
    {
     "data": {
      "text/plain": [
       "-0.00080219924714042268"
      ]
     },
     "execution_count": 218,
     "metadata": {},
     "output_type": "execute_result"
    }
   ],
   "source": [
    "np.sum(A@x-B)"
   ]
  },
  {
   "cell_type": "code",
   "execution_count": 219,
   "metadata": {},
   "outputs": [
    {
     "data": {
      "text/plain": [
       "12.75772476196289"
      ]
     },
     "execution_count": 219,
     "metadata": {},
     "output_type": "execute_result"
    }
   ],
   "source": [
    "a4"
   ]
  },
  {
   "cell_type": "code",
   "execution_count": null,
   "metadata": {
    "collapsed": true
   },
   "outputs": [],
   "source": []
  },
  {
   "cell_type": "code",
   "execution_count": null,
   "metadata": {
    "collapsed": true
   },
   "outputs": [],
   "source": []
  },
  {
   "cell_type": "code",
   "execution_count": null,
   "metadata": {
    "collapsed": true
   },
   "outputs": [],
   "source": [
    "# Now working using new hypothesis\n",
    "# divide into 4 parts\n",
    "# and solve 2 equations\n",
    "# put the 1st equation value to next after each iteration\n",
    "n = A1.shape[0]\n",
    "x1 = np.random.rand(n)\n",
    "x2 = np.random.rand(n)\n",
    "b1 = B[:101]\n",
    "b2 = B[101:]\n",
    "start_time = time.time()\n",
    "#####\n",
    "# solving the RDD A by jacobi method for 10 iterations\n",
    "L1 = np.tril(A1,-1)\n",
    "U1 = (np.tril(A1.T,-1)).T\n",
    "D1 = np.diag(A1.diagonal())\n",
    "L2 = np.tril(A2,-1)\n",
    "U2 = (np.tril(A2.T,-1)).T\n",
    "D2 = np.diag(A2.diagonal())\n",
    "bj1 = -1*inv(D1).dot(L1+U1)\n",
    "bj2 = -1*inv(D2).dot(L2+U2)\n",
    "count = 0 \n",
    "while(1):\n",
    "    b = b1 - B1@x2 \n",
    "    dj1 = inv(D1).dot(b)\n",
    "    x1 = bj1.dot(x1) + dj1\n",
    "    b = b2 - B2@x1 \n",
    "    dj2 = inv(D2).dot(b)\n",
    "    x2 = bj2.dot(x2) + dj2\n",
    "    count = count +1\n",
    "    if(count>10):\n",
    "        break\n",
    "########\n",
    "a3 =(time.time() - start_time)\n",
    "x[:50] = x1\n",
    "x[50:] = x2\n",
    "lat3 = linalg.norm(B-A.dot(x))\n",
    "print(a3)\n",
    "print(lat3/inin)"
   ]
  },
  {
   "cell_type": "markdown",
   "metadata": {},
   "source": [
    "# Part 2 : 0/1 matrix and try to converge using the proposed algo(no time)"
   ]
  },
  {
   "cell_type": "code",
   "execution_count": 15,
   "metadata": {},
   "outputs": [],
   "source": [
    "#We try to converge the proposed method using the simple inbuilt method in the computer\n",
    "#we will try to solve the equateion using the block matix\n",
    "#suppose themarix is not spd only sparse and block diagonal\n",
    "\n",
    "n = 10000\n",
    "p = 10\n",
    "a1list = np.zeros(n)\n",
    "for i in range(n):\n",
    "    a = np.random.randint(p)\n",
    "    if a<8 :\n",
    "        a1list[i] = 1\n",
    "a2list = np.zeros(n)\n",
    "for i in range(n):\n",
    "    a = np.random.randint(p)\n",
    "    if a<8 :\n",
    "        a2list[i] = 1\n",
    "b1list = np.zeros(n)\n",
    "for i in range(n):\n",
    "    a = np.random.randint(p)\n",
    "    if a<1 :\n",
    "        b1list[i] = 1\n",
    "b2list = np.zeros(n)\n",
    "for i in range(n):\n",
    "    a = np.random.randint(p)\n",
    "    if a<1 :\n",
    "        b2list[i] = 1\n",
    "a = 100\n",
    "A1 = a1list.reshape([a,a])\n",
    "B1 = b1list.reshape([a,a])\n",
    "A2 = a2list.reshape([a,a])\n",
    "B2 = b2list.reshape([a,a])\n",
    "\n",
    "Mat = np.block([[A1,B1],[B2, A2]])\n",
    "\n",
    "#A = Mat.dot(Mat.T)\n",
    "A = Mat.copy()\n",
    "np.savetxt('text.txt',A[:100,100:],fmt='%0.0f')\n",
    "#B = np.random.rand(200)\n",
    "B = np.random.randint(-100,300,200)"
   ]
  },
  {
   "cell_type": "code",
   "execution_count": 20,
   "metadata": {},
   "outputs": [
    {
     "data": {
      "text/plain": [
       "100"
      ]
     },
     "execution_count": 20,
     "metadata": {},
     "output_type": "execute_result"
    }
   ],
   "source": [
    "np.linalg.matrix_rank(A[100:,100:])"
   ]
  },
  {
   "cell_type": "code",
   "execution_count": 29,
   "metadata": {},
   "outputs": [],
   "source": [
    "x1 = np.linalg.solve(A1, B[:100])\n",
    "x2 = np.linalg.solve(A2, B[100:])\n",
    "x = []\n",
    "x[:100] = x1\n",
    "x[100:] = x2"
   ]
  },
  {
   "cell_type": "code",
   "execution_count": 30,
   "metadata": {},
   "outputs": [],
   "source": [
    "xreal = np.linalg.solve(A, B)"
   ]
  },
  {
   "cell_type": "code",
   "execution_count": 31,
   "metadata": {},
   "outputs": [
    {
     "name": "stdout",
     "output_type": "stream",
     "text": [
      "-658.947574831895\n"
     ]
    }
   ],
   "source": [
    "print(np.sum(xreal-x))"
   ]
  },
  {
   "cell_type": "code",
   "execution_count": 23,
   "metadata": {},
   "outputs": [
    {
     "data": {
      "text/plain": [
       "array([-971.30288453,   86.955192  , -424.96010677,  359.36172024,\n",
       "        830.99101501])"
      ]
     },
     "execution_count": 23,
     "metadata": {},
     "output_type": "execute_result"
    }
   ],
   "source": [
    "xreal[:5] - x[:5]"
   ]
  },
  {
   "cell_type": "code",
   "execution_count": 35,
   "metadata": {},
   "outputs": [
    {
     "data": {
      "text/plain": [
       "-14890.474754406552"
      ]
     },
     "execution_count": 35,
     "metadata": {},
     "output_type": "execute_result"
    }
   ],
   "source": [
    "np.sum(B1.dot(x2)-B[:100])"
   ]
  },
  {
   "cell_type": "code",
   "execution_count": 32,
   "metadata": {},
   "outputs": [
    {
     "data": {
      "text/plain": [
       "array([-3.99200064e+01, -3.30254421e-01, -5.13819946e+02, -7.21920849e+01,\n",
       "        3.74685790e+02])"
      ]
     },
     "execution_count": 32,
     "metadata": {},
     "output_type": "execute_result"
    }
   ],
   "source": [
    "xreal[:5]"
   ]
  },
  {
   "cell_type": "code",
   "execution_count": 38,
   "metadata": {},
   "outputs": [
    {
     "data": {
      "text/plain": [
       "57.526624793014676"
      ]
     },
     "execution_count": 38,
     "metadata": {},
     "output_type": "execute_result"
    }
   ],
   "source": [
    "np.sum(x2)"
   ]
  },
  {
   "cell_type": "code",
   "execution_count": null,
   "metadata": {},
   "outputs": [],
   "source": []
  }
 ],
 "metadata": {
  "kernelspec": {
   "display_name": "Python 2",
   "language": "python",
   "name": "python2"
  },
  "language_info": {
   "codemirror_mode": {
    "name": "ipython",
    "version": 2
   },
   "file_extension": ".py",
   "mimetype": "text/x-python",
   "name": "python",
   "nbconvert_exporter": "python",
   "pygments_lexer": "ipython2",
   "version": "2.7.12"
  }
 },
 "nbformat": 4,
 "nbformat_minor": 2
}
