{
 "cells": [
  {
   "cell_type": "code",
   "execution_count": 7,
   "metadata": {},
   "outputs": [],
   "source": [
    "import numpy as np\n",
    "import time\n",
    "from numpy.linalg import inv\n",
    "from numpy import linalg\n",
    "from scipy import linalg"
   ]
  },
  {
   "cell_type": "markdown",
   "metadata": {},
   "source": [
    "# We will get good accuracy with cg in block structure"
   ]
  },
  {
   "cell_type": "code",
   "execution_count": 8,
   "metadata": {},
   "outputs": [],
   "source": [
    "#We try to converge the proposed method using the simple inbuilt method in the computer\n",
    "#we will try to solve the equateion using the block matix\n",
    "#suppose themarix is not spd only sparse and block diagonal\n",
    "\n",
    "n = 10000\n",
    "p = 50\n",
    "a1list = np.zeros(n)\n",
    "for i in range(n):\n",
    "    a = np.random.randint(p)\n",
    "    if a<8 :\n",
    "        a1list[i] = 1\n",
    "a2list = np.zeros(n)\n",
    "for i in range(n):\n",
    "    a = np.random.randint(p)\n",
    "    if a<8 :\n",
    "        a2list[i] = 1\n",
    "b1list = np.zeros(n)\n",
    "for i in range(n):\n",
    "    a = np.random.randint(p)\n",
    "    if a<1 :\n",
    "        b1list[i] = 1\n",
    "b2list = np.zeros(n)\n",
    "for i in range(n):\n",
    "    a = np.random.randint(p)\n",
    "    if a<1 :\n",
    "        b2list[i] = 1\n",
    "a = 100\n",
    "A1 = a1list.reshape([a,a])\n",
    "B1 = b1list.reshape([a,a])\n",
    "A2 = a2list.reshape([a,a])\n",
    "B2 = b2list.reshape([a,a])\n",
    "\n",
    "Mat = np.block([[A1,B1],[B2, A2]])\n",
    "Mat1 = Mat.dot(Mat.T)\n",
    "#A = Mat.dot(Mat.T)\n",
    "A = Mat1.copy()\n",
    "np.savetxt('text.txt',A,fmt='%0.0f')\n",
    "#B = np.random.rand(200)\n",
    "B = np.random.randint(-100,300,200)"
   ]
  },
  {
   "cell_type": "code",
   "execution_count": 9,
   "metadata": {},
   "outputs": [],
   "source": [
    "a1 = A[:100,:100].copy()\n",
    "a2 = A[100:,100:].copy()\n",
    "b1 = A[:100,100:].copy()\n",
    "b2 = A[100:,:100].copy()"
   ]
  },
  {
   "cell_type": "code",
   "execution_count": 11,
   "metadata": {},
   "outputs": [
    {
     "data": {
      "text/plain": [
       "True"
      ]
     },
     "execution_count": 11,
     "metadata": {},
     "output_type": "execute_result"
    }
   ],
   "source": [
    "def is_pos_def(x):\n",
    "    return np.all(np.linalg.eigvals(x) > 0)\n",
    "is_pos_def(A)"
   ]
  },
  {
   "cell_type": "code",
   "execution_count": 12,
   "metadata": {},
   "outputs": [
    {
     "data": {
      "text/plain": [
       "200"
      ]
     },
     "execution_count": 12,
     "metadata": {},
     "output_type": "execute_result"
    }
   ],
   "source": [
    "np.linalg.matrix_rank(A)"
   ]
  },
  {
   "cell_type": "code",
   "execution_count": 13,
   "metadata": {},
   "outputs": [],
   "source": [
    "xreal = np.linalg.solve(A, B)"
   ]
  },
  {
   "cell_type": "code",
   "execution_count": 14,
   "metadata": {},
   "outputs": [],
   "source": [
    "def CGmod(A,b,k):\n",
    "    n = A.shape[0]\n",
    "    x0 = np.random.rand(n)\n",
    "    #r = b\n",
    "    r = b - A.dot(x0)\n",
    "    p = r\n",
    "    temp1 = (np.linalg.norm(r))**2\n",
    "    #temp1 = 100\n",
    "    #e = 10\n",
    "    if(k==1): e =200\n",
    "    if(k==2): e =200\n",
    "    if(k==3): e =200\n",
    "    if(k==4): e =200\n",
    "    if(k==5): e =50\n",
    "    if(k==6): e =50\n",
    "    if(k==7): e =10\n",
    "    if(k==8): e =5\n",
    "    if(k==9): e =1\n",
    "    while(e<temp1):\n",
    "        w = A.dot(p)\n",
    "        a = (temp1)/(p.T.dot(w))\n",
    "        x0 = x0 + a*p\n",
    "        r = r - a*w\n",
    "        temp2 = (np.linalg.norm(r))**2\n",
    "        b =temp2/temp1\n",
    "        p = r + b*p\n",
    "        temp1 = temp2\n",
    "    #print(temp1)\n",
    "    return x0"
   ]
  },
  {
   "cell_type": "code",
   "execution_count": 15,
   "metadata": {},
   "outputs": [],
   "source": [
    "def caller(A1,A2,B1,B2,d1,d2):\n",
    "    n = A1.shape[0]\n",
    "    x1 = np.random.rand(n)\n",
    "    x2 = np.random.rand(n)\n",
    "    st = time.time()\n",
    "    b11 = d1-B1.dot(x2)\n",
    "    b22 = d2-B2.dot(x1)\n",
    "    for i in range(8000):\n",
    "        k = int(i/1000)+1\n",
    "        b11 = d1-B1.dot(x2)\n",
    "        x1 = CGmod(A1,b11,k)\n",
    "        #print(np.sum(np.abs(A1.dot(x1)-b11)))\n",
    "        b22 = d2-B2.dot(x1)\n",
    "        x2 = CGmod(A2,b22,k)\n",
    "        #print(np.sum(np.abs(A2.dot(x2)-b22)))\n",
    "        #print(\"yo\")\n",
    "        if (i%1000==0):\n",
    "            print(time.time()-st)\n",
    "            st = time.time()\n",
    "            print(np.sum(np.abs(A1.dot(x1)+B1.dot(x2)-d1))+np.sum(np.abs(B2.dot(x1)+A2.dot(x2)-d2)))\n",
    "        #print(\"hey\")\n",
    "    return(np.concatenate((x1,x2)))"
   ]
  },
  {
   "cell_type": "code",
   "execution_count": 16,
   "metadata": {},
   "outputs": [
    {
     "name": "stdout",
     "output_type": "stream",
     "text": [
      "0.0154459476471\n",
      "13503.265357231772\n",
      "3.63989400864\n",
      "836.5328882809642\n",
      "3.085542202\n",
      "694.9629207217604\n",
      "3.17027378082\n",
      "625.5582690900937\n",
      "3.18825507164\n",
      "459.20010104993344\n",
      "3.91426587105\n",
      "422.9704331433477\n",
      "4.49037408829\n",
      "327.3695961703247\n",
      "4.81253886223\n",
      "281.5893599883002\n"
     ]
    }
   ],
   "source": [
    "d1 = B[:100]\n",
    "d2 = B[100:]\n",
    "t1 = time.time()\n",
    "xmod = caller(a1,a2,b1,b2,d1,d2)\n",
    "t2 = time.time()"
   ]
  },
  {
   "cell_type": "code",
   "execution_count": 17,
   "metadata": {},
   "outputs": [
    {
     "data": {
      "text/plain": [
       "31.796531915664673"
      ]
     },
     "execution_count": 17,
     "metadata": {},
     "output_type": "execute_result"
    }
   ],
   "source": [
    "t2-t1"
   ]
  },
  {
   "cell_type": "code",
   "execution_count": 64,
   "metadata": {},
   "outputs": [
    {
     "data": {
      "text/plain": [
       "4211.8855808270555"
      ]
     },
     "execution_count": 64,
     "metadata": {},
     "output_type": "execute_result"
    }
   ],
   "source": [
    "np.sum(A.dot(xmod)-B)"
   ]
  },
  {
   "cell_type": "code",
   "execution_count": 102,
   "metadata": {},
   "outputs": [
    {
     "data": {
      "text/plain": [
       "-2.1358573576435447e-08"
      ]
     },
     "execution_count": 102,
     "metadata": {},
     "output_type": "execute_result"
    }
   ],
   "source": [
    "np.sum(A.dot(xreal)-B)"
   ]
  },
  {
   "cell_type": "code",
   "execution_count": 76,
   "metadata": {},
   "outputs": [
    {
     "data": {
      "text/plain": [
       "-630059.3503962946"
      ]
     },
     "execution_count": 76,
     "metadata": {},
     "output_type": "execute_result"
    }
   ],
   "source": [
    "np.sum((xreal-xmod))"
   ]
  },
  {
   "cell_type": "code",
   "execution_count": 82,
   "metadata": {},
   "outputs": [
    {
     "data": {
      "text/plain": [
       "array([ -3976.97808852, -78542.93380728,   1684.02253712, -17508.33185439,\n",
       "         -257.72218476])"
      ]
     },
     "execution_count": 82,
     "metadata": {},
     "output_type": "execute_result"
    }
   ],
   "source": [
    "xreal[:5]"
   ]
  },
  {
   "cell_type": "code",
   "execution_count": 93,
   "metadata": {},
   "outputs": [
    {
     "data": {
      "text/plain": [
       "array([ 162.66218347,  172.39821701, -264.96977911,  189.57603262,\n",
       "        100.98091912])"
      ]
     },
     "execution_count": 93,
     "metadata": {},
     "output_type": "execute_result"
    }
   ],
   "source": [
    "xmod[:5]"
   ]
  },
  {
   "cell_type": "code",
   "execution_count": null,
   "metadata": {},
   "outputs": [],
   "source": []
  }
 ],
 "metadata": {
  "kernelspec": {
   "display_name": "Python 2",
   "language": "python",
   "name": "python2"
  },
  "language_info": {
   "codemirror_mode": {
    "name": "ipython",
    "version": 2
   },
   "file_extension": ".py",
   "mimetype": "text/x-python",
   "name": "python",
   "nbconvert_exporter": "python",
   "pygments_lexer": "ipython2",
   "version": "2.7.12"
  }
 },
 "nbformat": 4,
 "nbformat_minor": 2
}
